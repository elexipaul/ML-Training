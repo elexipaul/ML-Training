{
 "cells": [
  {
   "cell_type": "code",
   "execution_count": 4,
   "id": "11566c55-ae5c-4e90-bbcd-1f46bc2ac51f",
   "metadata": {},
   "outputs": [],
   "source": [
    "#!pip install tensorflow\n"
   ]
  },
  {
   "cell_type": "code",
   "execution_count": null,
   "id": "91640d3d-cf60-49a3-9988-1734015715ed",
   "metadata": {},
   "outputs": [],
   "source": []
  },
  {
   "cell_type": "code",
   "execution_count": 5,
   "id": "2675a9cc-b817-4f41-8cd8-a6e8a44eabc8",
   "metadata": {},
   "outputs": [
    {
     "name": "stdout",
     "output_type": "stream",
     "text": [
      "2.19.0\n"
     ]
    }
   ],
   "source": [
    "import tensorflow as tf\n",
    "print(tf.__version__)\n"
   ]
  },
  {
   "cell_type": "code",
   "execution_count": 6,
   "id": "e52e0be8-1dde-411b-9de0-af18807e90cd",
   "metadata": {},
   "outputs": [],
   "source": [
    "#!pip install scikit-learn seaborn\n"
   ]
  },
  {
   "cell_type": "code",
   "execution_count": 7,
   "id": "58829ce0-9fa5-4db5-9718-d77b25537c16",
   "metadata": {},
   "outputs": [
    {
     "name": "stdout",
     "output_type": "stream",
     "text": [
      "scikit-learn version: 1.7.0\n",
      "seaborn version: 0.13.2\n"
     ]
    }
   ],
   "source": [
    "import sklearn\n",
    "import seaborn as sns\n",
    "\n",
    "print(\"scikit-learn version:\", sklearn.__version__)\n",
    "print(\"seaborn version:\", sns.__version__)\n"
   ]
  },
  {
   "cell_type": "code",
   "execution_count": 13,
   "id": "3068c25f-4af3-4edf-bc4e-0705b5249b60",
   "metadata": {},
   "outputs": [],
   "source": [
    "import pandas as pd\n",
    "import numpy as np\n",
    "import tensorflow as tf\n",
    "from sklearn.model_selection import train_test_split\n",
    "from sklearn.preprocessing import LabelEncoder\n",
    "from sklearn.metrics import mean_squared_error, r2_score, mean_absolute_error\n",
    "from tensorflow.keras.models import Sequential\n",
    "from tensorflow.keras.layers import Embedding, Conv1D, MaxPooling1D, Flatten, Dense, Dropout\n",
    "from tensorflow.keras.preprocessing.sequence import pad_sequences\n",
    "from tensorflow.keras.callbacks import ReduceLROnPlateau\n",
    "from tensorflow.keras.optimizers import Adam\n"
   ]
  },
  {
   "cell_type": "code",
   "execution_count": 8,
   "id": "0293e652-7870-451a-b11b-062d153ad3b4",
   "metadata": {},
   "outputs": [],
   "source": [
    "df=pd.read_csv(\"mutated.csv\")"
   ]
  },
  {
   "cell_type": "code",
   "execution_count": 9,
   "id": "384cbe5c-30c2-4d24-8138-818bcf0dd68a",
   "metadata": {},
   "outputs": [
    {
     "data": {
      "text/html": [
       "<div>\n",
       "<style scoped>\n",
       "    .dataframe tbody tr th:only-of-type {\n",
       "        vertical-align: middle;\n",
       "    }\n",
       "\n",
       "    .dataframe tbody tr th {\n",
       "        vertical-align: top;\n",
       "    }\n",
       "\n",
       "    .dataframe thead th {\n",
       "        text-align: right;\n",
       "    }\n",
       "</style>\n",
       "<table border=\"1\" class=\"dataframe\">\n",
       "  <thead>\n",
       "    <tr style=\"text-align: right;\">\n",
       "      <th></th>\n",
       "      <th>Unnamed: 0</th>\n",
       "      <th>UniProt ID</th>\n",
       "      <th>Mutants</th>\n",
       "      <th>Protein Sequence</th>\n",
       "      <th>delta_G</th>\n",
       "      <th>mutated_sequence</th>\n",
       "    </tr>\n",
       "  </thead>\n",
       "  <tbody>\n",
       "    <tr>\n",
       "      <th>0</th>\n",
       "      <td>0</td>\n",
       "      <td>A0A1U8PF82</td>\n",
       "      <td>wild-type</td>\n",
       "      <td>MAMKQVANSAIKAIANSGSSSLLTRQLHASPGSKKIVGVFYKANEY...</td>\n",
       "      <td>2.26</td>\n",
       "      <td>MAMKQVANSAIKAIANSGSSSLLTRQLHASPGSKKIVGVFYKANEY...</td>\n",
       "    </tr>\n",
       "    <tr>\n",
       "      <th>1</th>\n",
       "      <td>1</td>\n",
       "      <td>A0A1U8PF82</td>\n",
       "      <td>M225L</td>\n",
       "      <td>MAMKQVANSAIKAIANSGSSSLLTRQLHASPGSKKIVGVFYKANEY...</td>\n",
       "      <td>0.77</td>\n",
       "      <td>MAMKQVANSAIKAIANSGSSSLLTRQLHASPGSKKIVGVFYKANEY...</td>\n",
       "    </tr>\n",
       "    <tr>\n",
       "      <th>2</th>\n",
       "      <td>2</td>\n",
       "      <td>A0A1U8PF82</td>\n",
       "      <td>M234L</td>\n",
       "      <td>MAMKQVANSAIKAIANSGSSSLLTRQLHASPGSKKIVGVFYKANEY...</td>\n",
       "      <td>1.58</td>\n",
       "      <td>MAMKQVANSAIKAIANSGSSSLLTRQLHASPGSKKIVGVFYKANEY...</td>\n",
       "    </tr>\n",
       "    <tr>\n",
       "      <th>3</th>\n",
       "      <td>3</td>\n",
       "      <td>A0A1U8PF82</td>\n",
       "      <td>M243L</td>\n",
       "      <td>MAMKQVANSAIKAIANSGSSSLLTRQLHASPGSKKIVGVFYKANEY...</td>\n",
       "      <td>2.42</td>\n",
       "      <td>MAMKQVANSAIKAIANSGSSSLLTRQLHASPGSKKIVGVFYKANEY...</td>\n",
       "    </tr>\n",
       "    <tr>\n",
       "      <th>4</th>\n",
       "      <td>4</td>\n",
       "      <td>A0A5K6WEI0</td>\n",
       "      <td>wild-type</td>\n",
       "      <td>MVCLQKYATLTAERRYFAMSKKLTAVALSLILCFGILTAGMDTARA...</td>\n",
       "      <td>2.80</td>\n",
       "      <td>MVCLQKYATLTAERRYFAMSKKLTAVALSLILCFGILTAGMDTARA...</td>\n",
       "    </tr>\n",
       "    <tr>\n",
       "      <th>...</th>\n",
       "      <td>...</td>\n",
       "      <td>...</td>\n",
       "      <td>...</td>\n",
       "      <td>...</td>\n",
       "      <td>...</td>\n",
       "      <td>...</td>\n",
       "    </tr>\n",
       "    <tr>\n",
       "      <th>2094</th>\n",
       "      <td>2103</td>\n",
       "      <td>R9S082</td>\n",
       "      <td>F124K</td>\n",
       "      <td>MGLSDGEWQLVLNVWGKVETDLAGHGQEVLIRLFKGHPETLEKFDK...</td>\n",
       "      <td>3.50</td>\n",
       "      <td>MGLSDGEWQLVLNVWGKVETDLAGHGQEVLIRLFKGHPETLEKFDK...</td>\n",
       "    </tr>\n",
       "    <tr>\n",
       "      <th>2095</th>\n",
       "      <td>2104</td>\n",
       "      <td>R9S082</td>\n",
       "      <td>A131K</td>\n",
       "      <td>MGLSDGEWQLVLNVWGKVETDLAGHGQEVLIRLFKGHPETLEKFDK...</td>\n",
       "      <td>3.50</td>\n",
       "      <td>MGLSDGEWQLVLNVWGKVETDLAGHGQEVLIRLFKGHPETLEKFDK...</td>\n",
       "    </tr>\n",
       "    <tr>\n",
       "      <th>2096</th>\n",
       "      <td>2105</td>\n",
       "      <td>R9S082</td>\n",
       "      <td>A131L</td>\n",
       "      <td>MGLSDGEWQLVLNVWGKVETDLAGHGQEVLIRLFKGHPETLEKFDK...</td>\n",
       "      <td>4.70</td>\n",
       "      <td>MGLSDGEWQLVLNVWGKVETDLAGHGQEVLIRLFKGHPETLEKFDK...</td>\n",
       "    </tr>\n",
       "    <tr>\n",
       "      <th>2097</th>\n",
       "      <td>2106</td>\n",
       "      <td>R9S082</td>\n",
       "      <td>H37Q</td>\n",
       "      <td>MGLSDGEWQLVLNVWGKVETDLAGHGQEVLIRLFKGHPETLEKFDK...</td>\n",
       "      <td>4.80</td>\n",
       "      <td>MGLSDGEWQLVLNVWGKVETDLAGHGQEVLIRLFKGQPETLEKFDK...</td>\n",
       "    </tr>\n",
       "    <tr>\n",
       "      <th>2098</th>\n",
       "      <td>2107</td>\n",
       "      <td>R9S082</td>\n",
       "      <td>V69T</td>\n",
       "      <td>MGLSDGEWQLVLNVWGKVETDLAGHGQEVLIRLFKGHPETLEKFDK...</td>\n",
       "      <td>5.00</td>\n",
       "      <td>MGLSDGEWQLVLNVWGKVETDLAGHGQEVLIRLFKGHPETLEKFDK...</td>\n",
       "    </tr>\n",
       "  </tbody>\n",
       "</table>\n",
       "<p>2099 rows × 6 columns</p>\n",
       "</div>"
      ],
      "text/plain": [
       "      Unnamed: 0  UniProt ID    Mutants  \\\n",
       "0              0  A0A1U8PF82  wild-type   \n",
       "1              1  A0A1U8PF82      M225L   \n",
       "2              2  A0A1U8PF82      M234L   \n",
       "3              3  A0A1U8PF82      M243L   \n",
       "4              4  A0A5K6WEI0  wild-type   \n",
       "...          ...         ...        ...   \n",
       "2094        2103      R9S082      F124K   \n",
       "2095        2104      R9S082      A131K   \n",
       "2096        2105      R9S082      A131L   \n",
       "2097        2106      R9S082       H37Q   \n",
       "2098        2107      R9S082       V69T   \n",
       "\n",
       "                                       Protein Sequence  delta_G  \\\n",
       "0     MAMKQVANSAIKAIANSGSSSLLTRQLHASPGSKKIVGVFYKANEY...     2.26   \n",
       "1     MAMKQVANSAIKAIANSGSSSLLTRQLHASPGSKKIVGVFYKANEY...     0.77   \n",
       "2     MAMKQVANSAIKAIANSGSSSLLTRQLHASPGSKKIVGVFYKANEY...     1.58   \n",
       "3     MAMKQVANSAIKAIANSGSSSLLTRQLHASPGSKKIVGVFYKANEY...     2.42   \n",
       "4     MVCLQKYATLTAERRYFAMSKKLTAVALSLILCFGILTAGMDTARA...     2.80   \n",
       "...                                                 ...      ...   \n",
       "2094  MGLSDGEWQLVLNVWGKVETDLAGHGQEVLIRLFKGHPETLEKFDK...     3.50   \n",
       "2095  MGLSDGEWQLVLNVWGKVETDLAGHGQEVLIRLFKGHPETLEKFDK...     3.50   \n",
       "2096  MGLSDGEWQLVLNVWGKVETDLAGHGQEVLIRLFKGHPETLEKFDK...     4.70   \n",
       "2097  MGLSDGEWQLVLNVWGKVETDLAGHGQEVLIRLFKGHPETLEKFDK...     4.80   \n",
       "2098  MGLSDGEWQLVLNVWGKVETDLAGHGQEVLIRLFKGHPETLEKFDK...     5.00   \n",
       "\n",
       "                                       mutated_sequence  \n",
       "0     MAMKQVANSAIKAIANSGSSSLLTRQLHASPGSKKIVGVFYKANEY...  \n",
       "1     MAMKQVANSAIKAIANSGSSSLLTRQLHASPGSKKIVGVFYKANEY...  \n",
       "2     MAMKQVANSAIKAIANSGSSSLLTRQLHASPGSKKIVGVFYKANEY...  \n",
       "3     MAMKQVANSAIKAIANSGSSSLLTRQLHASPGSKKIVGVFYKANEY...  \n",
       "4     MVCLQKYATLTAERRYFAMSKKLTAVALSLILCFGILTAGMDTARA...  \n",
       "...                                                 ...  \n",
       "2094  MGLSDGEWQLVLNVWGKVETDLAGHGQEVLIRLFKGHPETLEKFDK...  \n",
       "2095  MGLSDGEWQLVLNVWGKVETDLAGHGQEVLIRLFKGHPETLEKFDK...  \n",
       "2096  MGLSDGEWQLVLNVWGKVETDLAGHGQEVLIRLFKGHPETLEKFDK...  \n",
       "2097  MGLSDGEWQLVLNVWGKVETDLAGHGQEVLIRLFKGQPETLEKFDK...  \n",
       "2098  MGLSDGEWQLVLNVWGKVETDLAGHGQEVLIRLFKGHPETLEKFDK...  \n",
       "\n",
       "[2099 rows x 6 columns]"
      ]
     },
     "execution_count": 9,
     "metadata": {},
     "output_type": "execute_result"
    }
   ],
   "source": [
    "df"
   ]
  },
  {
   "cell_type": "code",
   "execution_count": 10,
   "id": "9abfe5d1-8aec-455b-b019-204c18ee4953",
   "metadata": {},
   "outputs": [
    {
     "data": {
      "text/html": [
       "<div>\n",
       "<style scoped>\n",
       "    .dataframe tbody tr th:only-of-type {\n",
       "        vertical-align: middle;\n",
       "    }\n",
       "\n",
       "    .dataframe tbody tr th {\n",
       "        vertical-align: top;\n",
       "    }\n",
       "\n",
       "    .dataframe thead th {\n",
       "        text-align: right;\n",
       "    }\n",
       "</style>\n",
       "<table border=\"1\" class=\"dataframe\">\n",
       "  <thead>\n",
       "    <tr style=\"text-align: right;\">\n",
       "      <th></th>\n",
       "      <th>Unnamed: 0</th>\n",
       "      <th>UniProt ID</th>\n",
       "      <th>Mutants</th>\n",
       "      <th>Protein Sequence</th>\n",
       "      <th>delta_G</th>\n",
       "      <th>mutated_sequence</th>\n",
       "    </tr>\n",
       "  </thead>\n",
       "  <tbody>\n",
       "    <tr>\n",
       "      <th>2094</th>\n",
       "      <td>2103</td>\n",
       "      <td>R9S082</td>\n",
       "      <td>F124K</td>\n",
       "      <td>MGLSDGEWQLVLNVWGKVETDLAGHGQEVLIRLFKGHPETLEKFDK...</td>\n",
       "      <td>3.5</td>\n",
       "      <td>MGLSDGEWQLVLNVWGKVETDLAGHGQEVLIRLFKGHPETLEKFDK...</td>\n",
       "    </tr>\n",
       "    <tr>\n",
       "      <th>2095</th>\n",
       "      <td>2104</td>\n",
       "      <td>R9S082</td>\n",
       "      <td>A131K</td>\n",
       "      <td>MGLSDGEWQLVLNVWGKVETDLAGHGQEVLIRLFKGHPETLEKFDK...</td>\n",
       "      <td>3.5</td>\n",
       "      <td>MGLSDGEWQLVLNVWGKVETDLAGHGQEVLIRLFKGHPETLEKFDK...</td>\n",
       "    </tr>\n",
       "    <tr>\n",
       "      <th>2096</th>\n",
       "      <td>2105</td>\n",
       "      <td>R9S082</td>\n",
       "      <td>A131L</td>\n",
       "      <td>MGLSDGEWQLVLNVWGKVETDLAGHGQEVLIRLFKGHPETLEKFDK...</td>\n",
       "      <td>4.7</td>\n",
       "      <td>MGLSDGEWQLVLNVWGKVETDLAGHGQEVLIRLFKGHPETLEKFDK...</td>\n",
       "    </tr>\n",
       "    <tr>\n",
       "      <th>2097</th>\n",
       "      <td>2106</td>\n",
       "      <td>R9S082</td>\n",
       "      <td>H37Q</td>\n",
       "      <td>MGLSDGEWQLVLNVWGKVETDLAGHGQEVLIRLFKGHPETLEKFDK...</td>\n",
       "      <td>4.8</td>\n",
       "      <td>MGLSDGEWQLVLNVWGKVETDLAGHGQEVLIRLFKGQPETLEKFDK...</td>\n",
       "    </tr>\n",
       "    <tr>\n",
       "      <th>2098</th>\n",
       "      <td>2107</td>\n",
       "      <td>R9S082</td>\n",
       "      <td>V69T</td>\n",
       "      <td>MGLSDGEWQLVLNVWGKVETDLAGHGQEVLIRLFKGHPETLEKFDK...</td>\n",
       "      <td>5.0</td>\n",
       "      <td>MGLSDGEWQLVLNVWGKVETDLAGHGQEVLIRLFKGHPETLEKFDK...</td>\n",
       "    </tr>\n",
       "  </tbody>\n",
       "</table>\n",
       "</div>"
      ],
      "text/plain": [
       "      Unnamed: 0 UniProt ID Mutants  \\\n",
       "2094        2103     R9S082   F124K   \n",
       "2095        2104     R9S082   A131K   \n",
       "2096        2105     R9S082   A131L   \n",
       "2097        2106     R9S082    H37Q   \n",
       "2098        2107     R9S082    V69T   \n",
       "\n",
       "                                       Protein Sequence  delta_G  \\\n",
       "2094  MGLSDGEWQLVLNVWGKVETDLAGHGQEVLIRLFKGHPETLEKFDK...      3.5   \n",
       "2095  MGLSDGEWQLVLNVWGKVETDLAGHGQEVLIRLFKGHPETLEKFDK...      3.5   \n",
       "2096  MGLSDGEWQLVLNVWGKVETDLAGHGQEVLIRLFKGHPETLEKFDK...      4.7   \n",
       "2097  MGLSDGEWQLVLNVWGKVETDLAGHGQEVLIRLFKGHPETLEKFDK...      4.8   \n",
       "2098  MGLSDGEWQLVLNVWGKVETDLAGHGQEVLIRLFKGHPETLEKFDK...      5.0   \n",
       "\n",
       "                                       mutated_sequence  \n",
       "2094  MGLSDGEWQLVLNVWGKVETDLAGHGQEVLIRLFKGHPETLEKFDK...  \n",
       "2095  MGLSDGEWQLVLNVWGKVETDLAGHGQEVLIRLFKGHPETLEKFDK...  \n",
       "2096  MGLSDGEWQLVLNVWGKVETDLAGHGQEVLIRLFKGHPETLEKFDK...  \n",
       "2097  MGLSDGEWQLVLNVWGKVETDLAGHGQEVLIRLFKGQPETLEKFDK...  \n",
       "2098  MGLSDGEWQLVLNVWGKVETDLAGHGQEVLIRLFKGHPETLEKFDK...  "
      ]
     },
     "execution_count": 10,
     "metadata": {},
     "output_type": "execute_result"
    }
   ],
   "source": [
    "df.tail()\n"
   ]
  },
  {
   "cell_type": "code",
   "execution_count": 11,
   "id": "3879c173-fe9f-49f6-9190-c0aa7189e73d",
   "metadata": {},
   "outputs": [
    {
     "data": {
      "text/html": [
       "<div>\n",
       "<style scoped>\n",
       "    .dataframe tbody tr th:only-of-type {\n",
       "        vertical-align: middle;\n",
       "    }\n",
       "\n",
       "    .dataframe tbody tr th {\n",
       "        vertical-align: top;\n",
       "    }\n",
       "\n",
       "    .dataframe thead th {\n",
       "        text-align: right;\n",
       "    }\n",
       "</style>\n",
       "<table border=\"1\" class=\"dataframe\">\n",
       "  <thead>\n",
       "    <tr style=\"text-align: right;\">\n",
       "      <th></th>\n",
       "      <th>Unnamed: 0</th>\n",
       "      <th>delta_G</th>\n",
       "    </tr>\n",
       "  </thead>\n",
       "  <tbody>\n",
       "    <tr>\n",
       "      <th>count</th>\n",
       "      <td>2099.000000</td>\n",
       "      <td>2099.000000</td>\n",
       "    </tr>\n",
       "    <tr>\n",
       "      <th>mean</th>\n",
       "      <td>1054.626489</td>\n",
       "      <td>5.470134</td>\n",
       "    </tr>\n",
       "    <tr>\n",
       "      <th>std</th>\n",
       "      <td>608.611295</td>\n",
       "      <td>3.979716</td>\n",
       "    </tr>\n",
       "    <tr>\n",
       "      <th>min</th>\n",
       "      <td>0.000000</td>\n",
       "      <td>-3.450000</td>\n",
       "    </tr>\n",
       "    <tr>\n",
       "      <th>25%</th>\n",
       "      <td>530.500000</td>\n",
       "      <td>3.570000</td>\n",
       "    </tr>\n",
       "    <tr>\n",
       "      <th>50%</th>\n",
       "      <td>1055.000000</td>\n",
       "      <td>4.500000</td>\n",
       "    </tr>\n",
       "    <tr>\n",
       "      <th>75%</th>\n",
       "      <td>1581.500000</td>\n",
       "      <td>6.600000</td>\n",
       "    </tr>\n",
       "    <tr>\n",
       "      <th>max</th>\n",
       "      <td>2107.000000</td>\n",
       "      <td>58.200000</td>\n",
       "    </tr>\n",
       "  </tbody>\n",
       "</table>\n",
       "</div>"
      ],
      "text/plain": [
       "        Unnamed: 0      delta_G\n",
       "count  2099.000000  2099.000000\n",
       "mean   1054.626489     5.470134\n",
       "std     608.611295     3.979716\n",
       "min       0.000000    -3.450000\n",
       "25%     530.500000     3.570000\n",
       "50%    1055.000000     4.500000\n",
       "75%    1581.500000     6.600000\n",
       "max    2107.000000    58.200000"
      ]
     },
     "execution_count": 11,
     "metadata": {},
     "output_type": "execute_result"
    }
   ],
   "source": [
    "df.describe()\n"
   ]
  },
  {
   "cell_type": "code",
   "execution_count": 14,
   "id": "936dc709-a14a-4b80-8d39-f4e595571ff7",
   "metadata": {},
   "outputs": [
    {
     "data": {
      "image/png": "[encoded data removed]",
      "text/plain": [
       "<Figure size 1600x600 with 1 Axes>"
      ]
     },
     "metadata": {},
     "output_type": "display_data"
    }
   ],
   "source": [
    "# Assuming df is your DataFrame and has a 'delta_G' column\n",
    "df['delta_G_bin'] = pd.cut(df['delta_G'], bins=100)\n",
    "\n",
    "# Count occurrences in each bin\n",
    "bin_counts = df['delta_G_bin'].value_counts().sort_index().reset_index()\n",
    "bin_counts.columns = ['delta_G_range', 'count']\n",
    "\n",
    "# Plot\n",
    "plt.figure(figsize=(16, 6))\n",
    "sns.barplot(data=bin_counts, x='delta_G_range', y='count', color='skyblue')\n",
    "\n",
    "plt.xticks(rotation=90)\n",
    "plt.title('Distribution of ΔG values (100 bins)')\n",
    "plt.xlabel('ΔG Range')\n",
    "plt.ylabel('frequency')\n",
    "plt.tight_layout()\n",
    "plt.savefig(\"deltaG_distribution.pdf\", dpi=600, bbox_inches='tight')\n",
    "\n",
    "plt.show()"
   ]
  },
  {
   "cell_type": "code",
   "execution_count": null,
   "id": "cb278f31-2ac2-47d0-9770-06f086ad4394",
   "metadata": {},
   "outputs": [],
   "source": []
  },
  {
   "cell_type": "code",
   "execution_count": 15,
   "id": "3346d68b-ae61-4e33-9719-2bb61a0c6a5f",
   "metadata": {},
   "outputs": [
    {
     "data": {
      "text/plain": [
       "<Figure size 640x480 with 0 Axes>"
      ]
     },
     "metadata": {},
     "output_type": "display_data"
    }
   ],
   "source": [
    "# Save with high resolution\n",
    "# 🔐 Export to PDF\n",
    "plt.savefig(\"deltaG_distribution.pdf\", dpi=600, bbox_inches='tight')"
   ]
  },
  {
   "cell_type": "code",
   "execution_count": 16,
   "id": "942097f5-b0a4-4074-87db-9f6094d28ecb",
   "metadata": {},
   "outputs": [],
   "source": [
    "WT = df[\"Protein Sequence\"]\n",
    "MT = df[\"mutated_sequence\"]\n",
    "energy=df[\"delta_G\"]"
   ]
  },
  {
   "cell_type": "code",
   "execution_count": null,
   "id": "629793b6-d58b-44d4-8b11-d7e252e5256e",
   "metadata": {},
   "outputs": [],
   "source": []
  },
  {
   "cell_type": "code",
   "execution_count": 17,
   "id": "d846fb05-7735-4b93-be3d-1549aa576c6c",
   "metadata": {},
   "outputs": [
    {
     "name": "stdout",
     "output_type": "stream",
     "text": [
      "MAMKQVANSAIKAIANSGSSSLLTRQLHASPGSKKIVGVFYKANEYFTKNPNFVGCVEGALGLRPWLESQGHQYIVTDDKEGPDCELEKHIPDLHVLISTPFHPAYVTAERIKKAKNLQLLLTAGIGSDHVDLKAAAEAGLTVAEVTGSNVVSVAEDELMRILILVRNFVPGYHQVITGDWNVAGIAYRAYDLEGKTVGTIGAGRIGKLLLQRLKPFNCNLLYHDRVKIDPELEKQTGAKFEEDLDAMLPKCDIIVINMPLTEKTRGMFDKDRIAKMKKGVLIVNNARGAIMDTQAVADACSSGHIAGYSGDVWYPQPAPKDHPWRYMPNQAMTPHISGTTIDAQLRYAAGVKDMLERYFKGEDFPEQNYIVKAGELAPQYR\n"
     ]
    }
   ],
   "source": [
    "print(WT[0])"
   ]
  },
  {
   "cell_type": "code",
   "execution_count": 18,
   "id": "94ed4e4d-a191-4297-8b12-5039f0fdf66d",
   "metadata": {},
   "outputs": [],
   "source": [
    "AA = \"ACDEFRWYFQSTIKLGHMNP\"\n",
    "AA_index = {aa: i for i, aa in enumerate(AA)}\n"
   ]
  },
  {
   "cell_type": "code",
   "execution_count": 19,
   "id": "fd392164-0920-42d5-845c-eb65cab209c7",
   "metadata": {},
   "outputs": [
    {
     "name": "stdout",
     "output_type": "stream",
     "text": [
      "{'A': 0, 'C': 1, 'D': 2, 'E': 3, 'F': 8, 'R': 5, 'W': 6, 'Y': 7, 'Q': 9, 'S': 10, 'T': 11, 'I': 12, 'K': 13, 'L': 14, 'G': 15, 'H': 16, 'M': 17, 'N': 18, 'P': 19}\n"
     ]
    }
   ],
   "source": [
    "print(AA_index)"
   ]
  },
  {
   "cell_type": "code",
   "execution_count": null,
   "id": "704b411b-0eca-4fb1-af8b-6910e598ebfe",
   "metadata": {},
   "outputs": [],
   "source": []
  },
  {
   "cell_type": "code",
   "execution_count": null,
   "id": "a7909d11-e238-4a1f-ab23-7979cc734c0e",
   "metadata": {},
   "outputs": [],
   "source": []
  },
  {
   "cell_type": "code",
   "execution_count": 20,
   "id": "e8066467-1ec1-4a40-bf36-a3ec9a963305",
   "metadata": {},
   "outputs": [
    {
     "data": {
      "text/plain": [
       "20"
      ]
     },
     "execution_count": 20,
     "metadata": {},
     "output_type": "execute_result"
    }
   ],
   "source": [
    "len(AA)"
   ]
  },
  {
   "cell_type": "code",
   "execution_count": 21,
   "id": "97119dae-32f2-4bf6-8321-fabebf73937b",
   "metadata": {},
   "outputs": [
    {
     "name": "stdout",
     "output_type": "stream",
     "text": [
      "         A  C  D  E  F  G  H  I  K  L  M  N  P  Q  R  S  T  V  W  Y\n",
      "Residue                                                            \n",
      "M        0  0  0  0  0  0  0  0  0  0  1  0  0  0  0  0  0  0  0  0\n",
      "A        1  0  0  0  0  0  0  0  0  0  0  0  0  0  0  0  0  0  0  0\n",
      "M        0  0  0  0  0  0  0  0  0  0  1  0  0  0  0  0  0  0  0  0\n",
      "K        0  0  0  0  0  0  0  0  1  0  0  0  0  0  0  0  0  0  0  0\n",
      "Q        0  0  0  0  0  0  0  0  0  0  0  0  0  1  0  0  0  0  0  0\n",
      "V        0  0  0  0  0  0  0  0  0  0  0  0  0  0  0  0  0  1  0  0\n",
      "A        1  0  0  0  0  0  0  0  0  0  0  0  0  0  0  0  0  0  0  0\n",
      "N        0  0  0  0  0  0  0  0  0  0  0  1  0  0  0  0  0  0  0  0\n",
      "A        1  0  0  0  0  0  0  0  0  0  0  0  0  0  0  0  0  0  0  0\n"
     ]
    }
   ],
   "source": [
    "import numpy as np\n",
    "import pandas as pd\n",
    "\n",
    "# Define sequence and amino acid vocabulary\n",
    "sequence = \"MAMKQVANA\"\n",
    "aa_vocab = list(\"ACDEFGHIKLMNPQRSTVWY\")\n",
    "aa_to_index = {aa: idx for idx, aa in enumerate(aa_vocab)}\n",
    "\n",
    "# One-hot encoding\n",
    "encoded_matrix = np.zeros((len(sequence), len(aa_vocab)), dtype=int)\n",
    "for i, aa in enumerate(sequence):\n",
    "    idx = aa_to_index.get(aa, None)\n",
    "    if idx is not None:\n",
    "        encoded_matrix[i, idx] = 1\n",
    "\n",
    "# Create a labeled DataFrame\n",
    "df_encoded = pd.DataFrame(encoded_matrix, columns=aa_vocab)\n",
    "df_encoded.index = list(sequence)\n",
    "df_encoded.index.name = \"Residue\"\n",
    "\n",
    "print(df_encoded)\n"
   ]
  },
  {
   "cell_type": "markdown",
   "id": "c48edfac-0d8c-4bf0-a5a8-da79649f86d1",
   "metadata": {},
   "source": [
    "Numpy is a Array based module\n"
   ]
  },
  {
   "cell_type": "code",
   "execution_count": 22,
   "id": "21cfc333-adce-4388-9742-ba8e7edec08d",
   "metadata": {},
   "outputs": [
    {
     "name": "stdout",
     "output_type": "stream",
     "text": [
      "[[0 0 0 0 0 0 0 0 0 0]\n",
      " [0 0 0 0 0 0 0 0 0 0]\n",
      " [0 0 0 0 0 0 0 0 0 0]\n",
      " [0 0 0 0 0 0 0 0 0 0]\n",
      " [0 0 0 0 0 0 0 0 0 0]\n",
      " [0 0 0 0 0 0 0 0 0 0]\n",
      " [0 0 0 0 0 0 0 0 0 0]\n",
      " [0 0 0 0 0 0 0 0 0 0]\n",
      " [0 0 0 0 0 0 0 0 0 0]\n",
      " [0 0 0 0 0 0 0 0 0 0]]\n"
     ]
    }
   ],
   "source": [
    "import numpy as np\n",
    "\n",
    "matrix = np.zeros((10, 10), dtype=int)\n",
    "print(matrix)\n"
   ]
  },
  {
   "cell_type": "code",
   "execution_count": 23,
   "id": "723d7587-29da-448d-8cff-9add6913f4da",
   "metadata": {},
   "outputs": [
    {
     "data": {
      "text/plain": [
       "np.int64(0)"
      ]
     },
     "execution_count": 23,
     "metadata": {},
     "output_type": "execute_result"
    }
   ],
   "source": [
    "matrix[1,2]"
   ]
  },
  {
   "cell_type": "code",
   "execution_count": 24,
   "id": "2ea74e5f-6b50-435e-8234-f471451f28ac",
   "metadata": {},
   "outputs": [
    {
     "name": "stdout",
     "output_type": "stream",
     "text": [
      "(10, 10)\n"
     ]
    }
   ],
   "source": [
    "print(matrix.shape)"
   ]
  },
  {
   "cell_type": "code",
   "execution_count": 25,
   "id": "bede5173-7baa-4ac0-aa84-0c3bf722939e",
   "metadata": {},
   "outputs": [],
   "source": [
    "def oneHot_Prot(protSeq):\n",
    "    AA_index = {aa: i for i, aa in enumerate(AA)}\n",
    "    seq= len(protSeq)\n",
    "    oneHot = np.zeros(se, len(AA), dtype=int)\n",
    "\n",
    "    for i, amino in enumerate(protseq):\n",
    "        oneHot[i,oneHot[amino]]=1"
   ]
  },
  {
   "cell_type": "code",
   "execution_count": 26,
   "id": "afa0fdb8-631b-4a94-b8ae-4dd878b78d61",
   "metadata": {},
   "outputs": [],
   "source": [
    "import numpy as np\n",
    "\n",
    "# Define global amino acid vocabulary (20 standard residues)\n",
    "AA = \"ACDEFGHIKLMNPQRSTVWY\"\n",
    "AA_index = {aa: i for i, aa in enumerate(AA)}\n",
    "\n",
    "def oneHot_Prot(protSeq):\n",
    "    protSeq = protSeq.upper()  # ensure uppercase input\n",
    "    seq_len = len(protSeq)\n",
    "    \n",
    "    # Initialize a zero matrix of shape (sequence length x 20)\n",
    "    oneHot = np.zeros((seq_len, len(AA)), dtype=int)\n",
    "    \n",
    "    for i, amino in enumerate(protSeq):\n",
    "        idx = AA_index.get(amino)\n",
    "        if idx is not None:\n",
    "            oneHot[i, idx] = 1  # set the hot bit\n",
    "\n",
    "    return oneHot\n"
   ]
  },
  {
   "cell_type": "code",
   "execution_count": 27,
   "id": "35473ebc-6ebc-49b2-a7b2-bc03b67e2364",
   "metadata": {},
   "outputs": [
    {
     "name": "stdout",
     "output_type": "stream",
     "text": [
      "[[1 0 0 0 0 0 0 0 0 0 0 0 0 0 0 0 0 0 0 0]\n",
      " [0 0 0 0 0 0 0 0 0 0 0 0 0 1 0 0 0 0 0 0]\n",
      " [0 0 0 0 0 0 0 0 0 0 0 0 0 0 0 0 0 0 0 0]\n",
      " [0 0 0 0 0 0 0 0 0 0 0 0 0 1 0 0 0 0 0 0]\n",
      " [0 0 1 0 0 0 0 0 0 0 0 0 0 0 0 0 0 0 0 0]\n",
      " [0 0 0 1 0 0 0 0 0 0 0 0 0 0 0 0 0 0 0 0]]\n"
     ]
    }
   ],
   "source": [
    "encoded = oneHot_Prot(\"AQUQDE\")\n",
    "print(encoded)\n"
   ]
  },
  {
   "cell_type": "code",
   "execution_count": 28,
   "id": "7fe51cab-ffd5-4a76-ab50-7cf30f51df1d",
   "metadata": {},
   "outputs": [
    {
     "data": {
      "text/plain": [
       "array([[0, 0, 0, ..., 0, 0, 0],\n",
       "       [1, 0, 0, ..., 0, 0, 0],\n",
       "       [0, 0, 0, ..., 0, 0, 0],\n",
       "       ...,\n",
       "       [0, 0, 0, ..., 0, 0, 0],\n",
       "       [0, 0, 0, ..., 0, 0, 1],\n",
       "       [0, 0, 0, ..., 0, 0, 0]])"
      ]
     },
     "execution_count": 28,
     "metadata": {},
     "output_type": "execute_result"
    }
   ],
   "source": [
    "oneHot_Prot(MT[0])"
   ]
  },
  {
   "cell_type": "code",
   "execution_count": 29,
   "id": "7c7948e5-6ca5-4d1f-a6e0-29e0e6317524",
   "metadata": {},
   "outputs": [],
   "source": [
    "#for seq in MT:\n",
    "    #print(seq)\n"
   ]
  },
  {
   "cell_type": "code",
   "execution_count": null,
   "id": "e7a6867b-0b4e-4bfa-8228-169395c3c30b",
   "metadata": {},
   "outputs": [],
   "source": []
  },
  {
   "cell_type": "code",
   "execution_count": null,
   "id": "0c2d7993-cc48-4e24-94dd-3c6466592cfd",
   "metadata": {},
   "outputs": [],
   "source": []
  },
  {
   "cell_type": "code",
   "execution_count": 30,
   "id": "3d315ec6-002d-491c-bc5a-0e206600d518",
   "metadata": {},
   "outputs": [],
   "source": [
    "encode = [oneHot_Prot(i) for i in MT]"
   ]
  },
  {
   "cell_type": "code",
   "execution_count": 31,
   "id": "eecf7922-cc9a-49c0-bac9-a09627e7706a",
   "metadata": {},
   "outputs": [
    {
     "data": {
      "text/plain": [
       "(382, 20)"
      ]
     },
     "execution_count": 31,
     "metadata": {},
     "output_type": "execute_result"
    }
   ],
   "source": [
    "(encode[0]).shape"
   ]
  },
  {
   "cell_type": "code",
   "execution_count": 32,
   "id": "205f9f0c-910d-4d1f-8afe-1bea04ee57a6",
   "metadata": {},
   "outputs": [
    {
     "data": {
      "text/plain": [
       "(210, 20)"
      ]
     },
     "execution_count": 32,
     "metadata": {},
     "output_type": "execute_result"
    }
   ],
   "source": [
    "(encode[10]).shape"
   ]
  },
  {
   "cell_type": "markdown",
   "id": "ed020601-a3fc-4740-b425-05c832ac71af",
   "metadata": {},
   "source": [
    "## In ML all the Data point should have same no of features \n",
    "\n"
   ]
  },
  {
   "cell_type": "code",
   "execution_count": 33,
   "id": "537b64d8-5ad8-4ed8-b76c-658dcec8b758",
   "metadata": {},
   "outputs": [
    {
     "name": "stdout",
     "output_type": "stream",
     "text": [
      "Maximum sequence length in MT: 34350\n"
     ]
    }
   ],
   "source": [
    "max_len = max(len(seq) for seq in MT)\n",
    "print(\"Maximum sequence length in MT:\", max_len)\n"
   ]
  },
  {
   "cell_type": "code",
   "execution_count": 34,
   "id": "d63d21e6-4397-42bc-a617-dafc34664b27",
   "metadata": {},
   "outputs": [],
   "source": [
    "# Pad all sequences to the same max length\n",
    "padded_seqs = pad_sequences(encode, padding='post')"
   ]
  },
  {
   "cell_type": "code",
   "execution_count": 35,
   "id": "0ea19276-3074-421d-b7ed-888ca8a287b6",
   "metadata": {},
   "outputs": [
    {
     "data": {
      "text/plain": [
       "(34350, 20)"
      ]
     },
     "execution_count": 35,
     "metadata": {},
     "output_type": "execute_result"
    }
   ],
   "source": [
    "(padded_seqs[0]).shape"
   ]
  },
  {
   "cell_type": "code",
   "execution_count": 36,
   "id": "1e98ca2f-4180-40fa-8f54-303c46dacf67",
   "metadata": {},
   "outputs": [],
   "source": [
    "X=np.array(padded_seqs)"
   ]
  },
  {
   "cell_type": "code",
   "execution_count": 37,
   "id": "c113823a-411d-41a0-b546-21650067b0c9",
   "metadata": {},
   "outputs": [
    {
     "name": "stdout",
     "output_type": "stream",
     "text": [
      "[[[0 0 0 ... 0 0 0]\n",
      "  [1 0 0 ... 0 0 0]\n",
      "  [0 0 0 ... 0 0 0]\n",
      "  ...\n",
      "  [0 0 0 ... 0 0 0]\n",
      "  [0 0 0 ... 0 0 0]\n",
      "  [0 0 0 ... 0 0 0]]\n",
      "\n",
      " [[0 0 0 ... 0 0 0]\n",
      "  [1 0 0 ... 0 0 0]\n",
      "  [0 0 0 ... 0 0 0]\n",
      "  ...\n",
      "  [0 0 0 ... 0 0 0]\n",
      "  [0 0 0 ... 0 0 0]\n",
      "  [0 0 0 ... 0 0 0]]\n",
      "\n",
      " [[0 0 0 ... 0 0 0]\n",
      "  [1 0 0 ... 0 0 0]\n",
      "  [0 0 0 ... 0 0 0]\n",
      "  ...\n",
      "  [0 0 0 ... 0 0 0]\n",
      "  [0 0 0 ... 0 0 0]\n",
      "  [0 0 0 ... 0 0 0]]\n",
      "\n",
      " ...\n",
      "\n",
      " [[0 0 0 ... 0 0 0]\n",
      "  [0 0 0 ... 0 0 0]\n",
      "  [0 0 0 ... 0 0 0]\n",
      "  ...\n",
      "  [0 0 0 ... 0 0 0]\n",
      "  [0 0 0 ... 0 0 0]\n",
      "  [0 0 0 ... 0 0 0]]\n",
      "\n",
      " [[0 0 0 ... 0 0 0]\n",
      "  [0 0 0 ... 0 0 0]\n",
      "  [0 0 0 ... 0 0 0]\n",
      "  ...\n",
      "  [0 0 0 ... 0 0 0]\n",
      "  [0 0 0 ... 0 0 0]\n",
      "  [0 0 0 ... 0 0 0]]\n",
      "\n",
      " [[0 0 0 ... 0 0 0]\n",
      "  [0 0 0 ... 0 0 0]\n",
      "  [0 0 0 ... 0 0 0]\n",
      "  ...\n",
      "  [0 0 0 ... 0 0 0]\n",
      "  [0 0 0 ... 0 0 0]\n",
      "  [0 0 0 ... 0 0 0]]]\n"
     ]
    }
   ],
   "source": [
    "print(X[:10])\n"
   ]
  },
  {
   "cell_type": "markdown",
   "id": "e835a606-0a4b-4dc2-9add-d02276dc3c12",
   "metadata": {},
   "source": [
    "## predict delta g using sequence , folding and unfolding here features are one hot encoded values which comes from the sequences. ~ In Your Pipeline:\n",
    "Variable\tRole\tDescription\n",
    "X\tIndependent Variable (features)\tNumerical representation of protein or peptide sequences (e.g., tokenized, padded, or one-hot encoded amino acid strings).\n",
    "y\tDependent Variable (target)\tWhat you're trying to predict — can be:\n",
    "• ΔG: Continuous value → regression • Stability class (stable/unstable) → classification |"
   ]
  },
  {
   "cell_type": "code",
   "execution_count": 38,
   "id": "5f680e90-a5ad-45b2-9b34-2ab003f7c59a",
   "metadata": {},
   "outputs": [],
   "source": [
    "Y=np.array(energy)"
   ]
  },
  {
   "cell_type": "code",
   "execution_count": 39,
   "id": "c8444e24-35fd-452f-9e49-4cdca925dd34",
   "metadata": {},
   "outputs": [
    {
     "name": "stdout",
     "output_type": "stream",
     "text": [
      "[ 2.26  0.77  1.58  2.42  2.8  11.4  11.23 11.39 14.41 14.73]\n"
     ]
    }
   ],
   "source": [
    "print(Y[:10])"
   ]
  },
  {
   "cell_type": "code",
   "execution_count": 40,
   "id": "8f509e53-9df9-4614-874c-b04884831518",
   "metadata": {},
   "outputs": [],
   "source": [
    "## Split the data in to train & test"
   ]
  },
  {
   "cell_type": "code",
   "execution_count": 41,
   "id": "ae571c70-6c4e-416f-a8b7-2bd75062832b",
   "metadata": {},
   "outputs": [],
   "source": [
    "X_train, X_temp, y_train, y_temp = train_test_split(X, Y, test_size=0.3, random_state=42)"
   ]
  },
  {
   "cell_type": "code",
   "execution_count": 42,
   "id": "7d4cc1e0-a604-4e00-9c93-672136a5a252",
   "metadata": {},
   "outputs": [
    {
     "data": {
      "text/plain": [
       "(2099, 34350, 20)"
      ]
     },
     "execution_count": 42,
     "metadata": {},
     "output_type": "execute_result"
    }
   ],
   "source": [
    "X.shape"
   ]
  },
  {
   "cell_type": "code",
   "execution_count": 43,
   "id": "7905a3e0-4dd6-4612-8c8a-2920bdb1fcb6",
   "metadata": {},
   "outputs": [
    {
     "data": {
      "text/plain": [
       "(1469, 34350, 20)"
      ]
     },
     "execution_count": 43,
     "metadata": {},
     "output_type": "execute_result"
    }
   ],
   "source": [
    "X_train.shape"
   ]
  },
  {
   "cell_type": "markdown",
   "id": "8fb12b51-a103-4753-88e8-79a548e71cf5",
   "metadata": {},
   "source": [
    "1469 =\tNumber of training sequences (mutants you're training on)\n",
    "34350 = Length of the longest protein sequence (after padding)\n",
    "20 = One-hot dimension for each amino acid (based on \"ACDEFGHIKLMNPQRSTVWY\")"
   ]
  },
  {
   "cell_type": "code",
   "execution_count": 44,
   "id": "06ca5341-f8bf-4c63-a108-9e2ea733949e",
   "metadata": {},
   "outputs": [],
   "source": [
    "X_test, X_val, y_test, y_val = train_test_split(X_temp, y_temp, test_size=0.2, random_state=42)"
   ]
  },
  {
   "cell_type": "code",
   "execution_count": 45,
   "id": "00b92598-bfa4-42e4-b0c2-a7363bb010fe",
   "metadata": {},
   "outputs": [
    {
     "data": {
      "text/plain": [
       "(504, 34350, 20)"
      ]
     },
     "execution_count": 45,
     "metadata": {},
     "output_type": "execute_result"
    }
   ],
   "source": [
    "X_test.shape"
   ]
  },
  {
   "cell_type": "code",
   "execution_count": 46,
   "id": "32559fca-8cb3-4816-a997-f362168800d5",
   "metadata": {},
   "outputs": [
    {
     "data": {
      "text/plain": [
       "(1469,)"
      ]
     },
     "execution_count": 46,
     "metadata": {},
     "output_type": "execute_result"
    }
   ],
   "source": [
    "y_train.shape"
   ]
  },
  {
   "cell_type": "markdown",
   "id": "7ee5f0b6-6fdf-4d3c-8cff-2484efdad80f",
   "metadata": {},
   "source": [
    "## CNN '(CONVOLUTION NEURAL NETWORK)'\n",
    "* Components of CNN"
   ]
  },
  {
   "cell_type": "code",
   "execution_count": 47,
   "id": "83396cbe-a2da-42b8-953c-7ef03fadd732",
   "metadata": {},
   "outputs": [],
   "source": [
    "from tensorflow.keras.datasets import mnist\n",
    "from tensorflow.keras.models import Sequential\n",
    "from tensorflow.keras.layers import Conv2D, MaxPool2D, Flatten, Dropout, Dense"
   ]
  },
  {
   "cell_type": "code",
   "execution_count": 51,
   "id": "ea7ca0d9-3c92-4de4-8b8b-dd2ae34d843b",
   "metadata": {},
   "outputs": [
    {
     "name": "stdout",
     "output_type": "stream",
     "text": [
      "C:\\Users\\pranjal\\Delta-G-Prediction\n"
     ]
    },
    {
     "name": "stderr",
     "output_type": "stream",
     "text": [
      "C:\\Users\\pranjal\\anaconda3\\envs\\pythonProject1\\lib\\site-packages\\IPython\\core\\magics\\osm.py:417: UserWarning: This is now an optional IPython functionality, setting dhist requires you to install the `pickleshare` library.\n",
      "  self.shell.db['dhist'] = compress_dhist(dhist)[-100:]\n"
     ]
    }
   ],
   "source": [
    "%cd Delta-G-Prediction"
   ]
  },
  {
   "cell_type": "code",
   "execution_count": 52,
   "id": "cf1aff39-d2a3-4c8b-ba6b-bf9725f59d29",
   "metadata": {},
   "outputs": [
    {
     "name": "stdout",
     "output_type": "stream",
     "text": [
      "Training data shapes: (1469, 34350, 20) (1469,)\n",
      "Validation data shapes: (126, 34350, 20) (126,)\n",
      "Test data shapes: (504, 34350, 20) (504,)\n"
     ]
    }
   ],
   "source": [
    "# # Print the shapes of the datasets\n",
    "print(\"Training data shapes:\", X_train.shape, y_train.shape)\n",
    "print(\"Validation data shapes:\", X_val.shape, y_val.shape)\n",
    "print(\"Test data shapes:\", X_test.shape, y_test.shape)"
   ]
  },
  {
   "cell_type": "code",
   "execution_count": 53,
   "id": "16c5a21b-4ef7-4ae2-adbc-224a714639a1",
   "metadata": {},
   "outputs": [],
   "source": [
    "# Set the input shape and number of classes (1 for regression)\n",
    "input_shape = (X_train.shape[1:])\n",
    "num_classes = 1"
   ]
  },
  {
   "cell_type": "code",
   "execution_count": 54,
   "id": "5d3a4fe2-cb1a-4e76-bb3d-19f43116aebb",
   "metadata": {},
   "outputs": [
    {
     "name": "stderr",
     "output_type": "stream",
     "text": [
      "C:\\Users\\pranjal\\anaconda3\\envs\\pythonProject1\\lib\\site-packages\\keras\\src\\layers\\convolutional\\base_conv.py:113: UserWarning: Do not pass an `input_shape`/`input_dim` argument to a layer. When using Sequential models, prefer using an `Input(shape)` object as the first layer in the model instead.\n",
      "  super().__init__(activity_regularizer=activity_regularizer, **kwargs)\n"
     ]
    },
    {
     "name": "stdout",
     "output_type": "stream",
     "text": [
      "Epoch 1/100\n",
      "\u001b[1m46/46\u001b[0m \u001b[32m━━━━━━━━━━━━━━━━━━━━\u001b[0m\u001b[37m\u001b[0m \u001b[1m56s\u001b[0m 1s/step - loss: 44.3973 - val_loss: 12.3800 - learning_rate: 0.0010\n",
      "Epoch 2/100\n",
      "\u001b[1m46/46\u001b[0m \u001b[32m━━━━━━━━━━━━━━━━━━━━\u001b[0m\u001b[37m\u001b[0m \u001b[1m51s\u001b[0m 1s/step - loss: 14.1374 - val_loss: 11.5542 - learning_rate: 0.0010\n",
      "Epoch 3/100\n",
      "\u001b[1m46/46\u001b[0m \u001b[32m━━━━━━━━━━━━━━━━━━━━\u001b[0m\u001b[37m\u001b[0m \u001b[1m51s\u001b[0m 1s/step - loss: 11.3902 - val_loss: 9.3934 - learning_rate: 0.0010\n",
      "Epoch 4/100\n",
      "\u001b[1m46/46\u001b[0m \u001b[32m━━━━━━━━━━━━━━━━━━━━\u001b[0m\u001b[37m\u001b[0m \u001b[1m52s\u001b[0m 1s/step - loss: 13.4281 - val_loss: 9.3643 - learning_rate: 0.0010\n",
      "Epoch 5/100\n",
      "\u001b[1m46/46\u001b[0m \u001b[32m━━━━━━━━━━━━━━━━━━━━\u001b[0m\u001b[37m\u001b[0m \u001b[1m50s\u001b[0m 1s/step - loss: 8.6945 - val_loss: 5.7388 - learning_rate: 0.0010\n",
      "Epoch 6/100\n",
      "\u001b[1m46/46\u001b[0m \u001b[32m━━━━━━━━━━━━━━━━━━━━\u001b[0m\u001b[37m\u001b[0m \u001b[1m52s\u001b[0m 1s/step - loss: 7.6811 - val_loss: 7.7420 - learning_rate: 0.0010\n",
      "Epoch 7/100\n",
      "\u001b[1m46/46\u001b[0m \u001b[32m━━━━━━━━━━━━━━━━━━━━\u001b[0m\u001b[37m\u001b[0m \u001b[1m54s\u001b[0m 1s/step - loss: 8.8694 - val_loss: 10.4750 - learning_rate: 0.0010\n",
      "Epoch 8/100\n",
      "\u001b[1m46/46\u001b[0m \u001b[32m━━━━━━━━━━━━━━━━━━━━\u001b[0m\u001b[37m\u001b[0m \u001b[1m53s\u001b[0m 1s/step - loss: 14.3984 - val_loss: 5.1557 - learning_rate: 0.0010\n",
      "Epoch 9/100\n",
      "\u001b[1m46/46\u001b[0m \u001b[32m━━━━━━━━━━━━━━━━━━━━\u001b[0m\u001b[37m\u001b[0m \u001b[1m53s\u001b[0m 1s/step - loss: 9.9840 - val_loss: 5.6444 - learning_rate: 0.0010\n",
      "Epoch 10/100\n",
      "\u001b[1m46/46\u001b[0m \u001b[32m━━━━━━━━━━━━━━━━━━━━\u001b[0m\u001b[37m\u001b[0m \u001b[1m51s\u001b[0m 1s/step - loss: 6.8695 - val_loss: 4.2521 - learning_rate: 0.0010\n",
      "Epoch 11/100\n",
      "\u001b[1m46/46\u001b[0m \u001b[32m━━━━━━━━━━━━━━━━━━━━\u001b[0m\u001b[37m\u001b[0m \u001b[1m51s\u001b[0m 1s/step - loss: 7.0465 - val_loss: 6.8741 - learning_rate: 0.0010\n",
      "Epoch 12/100\n",
      "\u001b[1m46/46\u001b[0m \u001b[32m━━━━━━━━━━━━━━━━━━━━\u001b[0m\u001b[37m\u001b[0m \u001b[1m51s\u001b[0m 1s/step - loss: 9.5078 - val_loss: 6.6418 - learning_rate: 0.0010\n",
      "Epoch 13/100\n",
      "\u001b[1m46/46\u001b[0m \u001b[32m━━━━━━━━━━━━━━━━━━━━\u001b[0m\u001b[37m\u001b[0m \u001b[1m52s\u001b[0m 1s/step - loss: 6.8836 - val_loss: 5.1056 - learning_rate: 0.0010\n",
      "Epoch 14/100\n",
      "\u001b[1m46/46\u001b[0m \u001b[32m━━━━━━━━━━━━━━━━━━━━\u001b[0m\u001b[37m\u001b[0m \u001b[1m50s\u001b[0m 1s/step - loss: 4.2024 - val_loss: 3.5935 - learning_rate: 0.0010\n",
      "Epoch 15/100\n",
      "\u001b[1m46/46\u001b[0m \u001b[32m━━━━━━━━━━━━━━━━━━━━\u001b[0m\u001b[37m\u001b[0m \u001b[1m51s\u001b[0m 1s/step - loss: 5.1808 - val_loss: 4.1836 - learning_rate: 0.0010\n",
      "Epoch 16/100\n",
      "\u001b[1m46/46\u001b[0m \u001b[32m━━━━━━━━━━━━━━━━━━━━\u001b[0m\u001b[37m\u001b[0m \u001b[1m51s\u001b[0m 1s/step - loss: 5.1300 - val_loss: 3.5328 - learning_rate: 0.0010\n",
      "Epoch 17/100\n",
      "\u001b[1m46/46\u001b[0m \u001b[32m━━━━━━━━━━━━━━━━━━━━\u001b[0m\u001b[37m\u001b[0m \u001b[1m52s\u001b[0m 1s/step - loss: 3.8483 - val_loss: 3.4585 - learning_rate: 0.0010\n",
      "Epoch 18/100\n",
      "\u001b[1m46/46\u001b[0m \u001b[32m━━━━━━━━━━━━━━━━━━━━\u001b[0m\u001b[37m\u001b[0m \u001b[1m51s\u001b[0m 1s/step - loss: 3.6947 - val_loss: 3.3950 - learning_rate: 0.0010\n",
      "Epoch 19/100\n",
      "\u001b[1m46/46\u001b[0m \u001b[32m━━━━━━━━━━━━━━━━━━━━\u001b[0m\u001b[37m\u001b[0m \u001b[1m52s\u001b[0m 1s/step - loss: 3.8549 - val_loss: 3.6286 - learning_rate: 0.0010\n",
      "Epoch 20/100\n",
      "\u001b[1m46/46\u001b[0m \u001b[32m━━━━━━━━━━━━━━━━━━━━\u001b[0m\u001b[37m\u001b[0m \u001b[1m51s\u001b[0m 1s/step - loss: 3.1563 - val_loss: 3.3093 - learning_rate: 0.0010\n",
      "Epoch 21/100\n",
      "\u001b[1m46/46\u001b[0m \u001b[32m━━━━━━━━━━━━━━━━━━━━\u001b[0m\u001b[37m\u001b[0m \u001b[1m53s\u001b[0m 1s/step - loss: 3.1073 - val_loss: 4.2146 - learning_rate: 0.0010\n",
      "Epoch 22/100\n",
      "\u001b[1m46/46\u001b[0m \u001b[32m━━━━━━━━━━━━━━━━━━━━\u001b[0m\u001b[37m\u001b[0m \u001b[1m50s\u001b[0m 1s/step - loss: 3.2603 - val_loss: 3.4131 - learning_rate: 0.0010\n",
      "Epoch 23/100\n",
      "\u001b[1m46/46\u001b[0m \u001b[32m━━━━━━━━━━━━━━━━━━━━\u001b[0m\u001b[37m\u001b[0m \u001b[1m51s\u001b[0m 1s/step - loss: 3.5775 - val_loss: 3.1628 - learning_rate: 0.0010\n",
      "Epoch 24/100\n",
      "\u001b[1m46/46\u001b[0m \u001b[32m━━━━━━━━━━━━━━━━━━━━\u001b[0m\u001b[37m\u001b[0m \u001b[1m81s\u001b[0m 1s/step - loss: 3.1266 - val_loss: 3.6085 - learning_rate: 0.0010\n",
      "Epoch 25/100\n",
      "\u001b[1m46/46\u001b[0m \u001b[32m━━━━━━━━━━━━━━━━━━━━\u001b[0m\u001b[37m\u001b[0m \u001b[1m50s\u001b[0m 1s/step - loss: 2.7602 - val_loss: 3.1716 - learning_rate: 0.0010\n",
      "Epoch 26/100\n",
      "\u001b[1m46/46\u001b[0m \u001b[32m━━━━━━━━━━━━━━━━━━━━\u001b[0m\u001b[37m\u001b[0m \u001b[1m50s\u001b[0m 1s/step - loss: 2.5755 - val_loss: 3.2893 - learning_rate: 0.0010\n",
      "Epoch 27/100\n",
      "\u001b[1m46/46\u001b[0m \u001b[32m━━━━━━━━━━━━━━━━━━━━\u001b[0m\u001b[37m\u001b[0m \u001b[1m50s\u001b[0m 1s/step - loss: 2.5495 - val_loss: 3.3654 - learning_rate: 0.0010\n",
      "Epoch 28/100\n",
      "\u001b[1m46/46\u001b[0m \u001b[32m━━━━━━━━━━━━━━━━━━━━\u001b[0m\u001b[37m\u001b[0m \u001b[1m50s\u001b[0m 1s/step - loss: 2.7676 - val_loss: 3.0396 - learning_rate: 0.0010\n",
      "Epoch 29/100\n",
      "\u001b[1m46/46\u001b[0m \u001b[32m━━━━━━━━━━━━━━━━━━━━\u001b[0m\u001b[37m\u001b[0m \u001b[1m50s\u001b[0m 1s/step - loss: 2.6413 - val_loss: 3.0425 - learning_rate: 0.0010\n",
      "Epoch 30/100\n",
      "\u001b[1m46/46\u001b[0m \u001b[32m━━━━━━━━━━━━━━━━━━━━\u001b[0m\u001b[37m\u001b[0m \u001b[1m50s\u001b[0m 1s/step - loss: 3.4121 - val_loss: 2.8888 - learning_rate: 0.0010\n",
      "Epoch 31/100\n",
      "\u001b[1m46/46\u001b[0m \u001b[32m━━━━━━━━━━━━━━━━━━━━\u001b[0m\u001b[37m\u001b[0m \u001b[1m51s\u001b[0m 1s/step - loss: 3.1148 - val_loss: 3.0958 - learning_rate: 0.0010\n",
      "Epoch 32/100\n",
      "\u001b[1m46/46\u001b[0m \u001b[32m━━━━━━━━━━━━━━━━━━━━\u001b[0m\u001b[37m\u001b[0m \u001b[1m50s\u001b[0m 1s/step - loss: 3.3028 - val_loss: 3.6260 - learning_rate: 0.0010\n",
      "Epoch 33/100\n",
      "\u001b[1m46/46\u001b[0m \u001b[32m━━━━━━━━━━━━━━━━━━━━\u001b[0m\u001b[37m\u001b[0m \u001b[1m53s\u001b[0m 1s/step - loss: 2.5665 - val_loss: 6.0260 - learning_rate: 0.0010\n",
      "Epoch 35/100\n",
      "\u001b[1m46/46\u001b[0m \u001b[32m━━━━━━━━━━━━━━━━━━━━\u001b[0m\u001b[37m\u001b[0m \u001b[1m0s\u001b[0m 1s/step - loss: 4.0724 \n",
      "Epoch 35: ReduceLROnPlateau reducing learning rate to 0.0005000000237487257.\n",
      "\u001b[1m46/46\u001b[0m \u001b[32m━━━━━━━━━━━━━━━━━━━━\u001b[0m\u001b[37m\u001b[0m \u001b[1m54s\u001b[0m 1s/step - loss: 4.0687 - val_loss: 3.5361 - learning_rate: 0.0010\n",
      "Epoch 36/100\n",
      "\u001b[1m46/46\u001b[0m \u001b[32m━━━━━━━━━━━━━━━━━━━━\u001b[0m\u001b[37m\u001b[0m \u001b[1m53s\u001b[0m 1s/step - loss: 3.2165 - val_loss: 3.0651 - learning_rate: 5.0000e-04\n",
      "Epoch 37/100\n",
      "\u001b[1m46/46\u001b[0m \u001b[32m━━━━━━━━━━━━━━━━━━━━\u001b[0m\u001b[37m\u001b[0m \u001b[1m52s\u001b[0m 1s/step - loss: 2.4967 - val_loss: 3.3649 - learning_rate: 5.0000e-04\n",
      "Epoch 38/100\n",
      "\u001b[1m46/46\u001b[0m \u001b[32m━━━━━━━━━━━━━━━━━━━━\u001b[0m\u001b[37m\u001b[0m \u001b[1m52s\u001b[0m 1s/step - loss: 2.4500 - val_loss: 3.0820 - learning_rate: 5.0000e-04\n",
      "Epoch 39/100\n",
      "\u001b[1m46/46\u001b[0m \u001b[32m━━━━━━━━━━━━━━━━━━━━\u001b[0m\u001b[37m\u001b[0m \u001b[1m51s\u001b[0m 1s/step - loss: 2.7757 - val_loss: 2.9623 - learning_rate: 5.0000e-04\n",
      "Epoch 40/100\n",
      "\u001b[1m46/46\u001b[0m \u001b[32m━━━━━━━━━━━━━━━━━━━━\u001b[0m\u001b[37m\u001b[0m \u001b[1m0s\u001b[0m 1s/step - loss: 2.2325 \n",
      "Epoch 40: ReduceLROnPlateau reducing learning rate to 0.0002500000118743628.\n",
      "\u001b[1m46/46\u001b[0m \u001b[32m━━━━━━━━━━━━━━━━━━━━\u001b[0m\u001b[37m\u001b[0m \u001b[1m51s\u001b[0m 1s/step - loss: 2.2433 - val_loss: 2.9657 - learning_rate: 5.0000e-04\n",
      "Epoch 41/100\n",
      "\u001b[1m46/46\u001b[0m \u001b[32m━━━━━━━━━━━━━━━━━━━━\u001b[0m\u001b[37m\u001b[0m \u001b[1m51s\u001b[0m 1s/step - loss: 2.2019 - val_loss: 3.0292 - learning_rate: 2.5000e-04\n",
      "Epoch 42/100\n",
      "\u001b[1m46/46\u001b[0m \u001b[32m━━━━━━━━━━━━━━━━━━━━\u001b[0m\u001b[37m\u001b[0m \u001b[1m50s\u001b[0m 1s/step - loss: 2.7801 - val_loss: 3.0224 - learning_rate: 2.5000e-04\n",
      "Epoch 43/100\n",
      "\u001b[1m46/46\u001b[0m \u001b[32m━━━━━━━━━━━━━━━━━━━━\u001b[0m\u001b[37m\u001b[0m \u001b[1m53s\u001b[0m 1s/step - loss: 2.4635 - val_loss: 2.9607 - learning_rate: 2.5000e-04\n",
      "Epoch 44/100\n",
      "\u001b[1m46/46\u001b[0m \u001b[32m━━━━━━━━━━━━━━━━━━━━\u001b[0m\u001b[37m\u001b[0m \u001b[1m50s\u001b[0m 1s/step - loss: 2.3932 - val_loss: 3.0321 - learning_rate: 2.5000e-04\n",
      "Epoch 45/100\n",
      "\u001b[1m46/46\u001b[0m \u001b[32m━━━━━━━━━━━━━━━━━━━━\u001b[0m\u001b[37m\u001b[0m \u001b[1m51s\u001b[0m 1s/step - loss: 2.3700 - val_loss: 2.7887 - learning_rate: 2.5000e-04\n",
      "Epoch 46/100\n",
      "\u001b[1m46/46\u001b[0m \u001b[32m━━━━━━━━━━━━━━━━━━━━\u001b[0m\u001b[37m\u001b[0m \u001b[1m51s\u001b[0m 1s/step - loss: 2.1931 - val_loss: 2.9585 - learning_rate: 2.5000e-04\n",
      "Epoch 47/100\n",
      "\u001b[1m46/46\u001b[0m \u001b[32m━━━━━━━━━━━━━━━━━━━━\u001b[0m\u001b[37m\u001b[0m \u001b[1m51s\u001b[0m 1s/step - loss: 2.4979 - val_loss: 3.0205 - learning_rate: 2.5000e-04\n",
      "Epoch 48/100\n",
      "\u001b[1m46/46\u001b[0m \u001b[32m━━━━━━━━━━━━━━━━━━━━\u001b[0m\u001b[37m\u001b[0m \u001b[1m50s\u001b[0m 1s/step - loss: 2.7067 - val_loss: 2.9964 - learning_rate: 2.5000e-04\n",
      "Epoch 49/100\n",
      "\u001b[1m46/46\u001b[0m \u001b[32m━━━━━━━━━━━━━━━━━━━━\u001b[0m\u001b[37m\u001b[0m \u001b[1m50s\u001b[0m 1s/step - loss: 2.1176 - val_loss: 2.8935 - learning_rate: 2.5000e-04\n",
      "Epoch 50/100\n",
      "\u001b[1m46/46\u001b[0m \u001b[32m━━━━━━━━━━━━━━━━━━━━\u001b[0m\u001b[37m\u001b[0m \u001b[1m0s\u001b[0m 1s/step - loss: 2.1288 \n",
      "Epoch 50: ReduceLROnPlateau reducing learning rate to 0.0001250000059371814.\n",
      "\u001b[1m46/46\u001b[0m \u001b[32m━━━━━━━━━━━━━━━━━━━━\u001b[0m\u001b[37m\u001b[0m \u001b[1m50s\u001b[0m 1s/step - loss: 2.1364 - val_loss: 3.0306 - learning_rate: 2.5000e-04\n",
      "Epoch 51/100\n",
      "\u001b[1m46/46\u001b[0m \u001b[32m━━━━━━━━━━━━━━━━━━━━\u001b[0m\u001b[37m\u001b[0m \u001b[1m50s\u001b[0m 1s/step - loss: 2.4148 - val_loss: 2.8456 - learning_rate: 1.2500e-04\n",
      "Epoch 52/100\n",
      "\u001b[1m46/46\u001b[0m \u001b[32m━━━━━━━━━━━━━━━━━━━━\u001b[0m\u001b[37m\u001b[0m \u001b[1m50s\u001b[0m 1s/step - loss: 2.0377 - val_loss: 2.7850 - learning_rate: 1.2500e-04\n",
      "Epoch 53/100\n",
      "\u001b[1m46/46\u001b[0m \u001b[32m━━━━━━━━━━━━━━━━━━━━\u001b[0m\u001b[37m\u001b[0m \u001b[1m50s\u001b[0m 1s/step - loss: 2.1152 - val_loss: 2.8096 - learning_rate: 1.2500e-04\n",
      "Epoch 54/100\n",
      "\u001b[1m46/46\u001b[0m \u001b[32m━━━━━━━━━━━━━━━━━━━━\u001b[0m\u001b[37m\u001b[0m \u001b[1m50s\u001b[0m 1s/step - loss: 2.1131 - val_loss: 2.9059 - learning_rate: 1.2500e-04\n",
      "Epoch 55/100\n",
      "\u001b[1m46/46\u001b[0m \u001b[32m━━━━━━━━━━━━━━━━━━━━\u001b[0m\u001b[37m\u001b[0m \u001b[1m50s\u001b[0m 1s/step - loss: 2.4386 - val_loss: 2.8629 - learning_rate: 1.2500e-04\n",
      "Epoch 56/100\n",
      "\u001b[1m46/46\u001b[0m \u001b[32m━━━━━━━━━━━━━━━━━━━━\u001b[0m\u001b[37m\u001b[0m \u001b[1m50s\u001b[0m 1s/step - loss: 1.9631 - val_loss: 2.8094 - learning_rate: 1.2500e-04\n",
      "Epoch 57/100\n",
      "\u001b[1m46/46\u001b[0m \u001b[32m━━━━━━━━━━━━━━━━━━━━\u001b[0m\u001b[37m\u001b[0m \u001b[1m50s\u001b[0m 1s/step - loss: 2.0636 - val_loss: 2.7558 - learning_rate: 1.2500e-04\n",
      "Epoch 58/100\n",
      "\u001b[1m46/46\u001b[0m \u001b[32m━━━━━━━━━━━━━━━━━━━━\u001b[0m\u001b[37m\u001b[0m \u001b[1m50s\u001b[0m 1s/step - loss: 2.0736 - val_loss: 2.8845 - learning_rate: 1.2500e-04\n",
      "Epoch 59/100\n",
      "\u001b[1m46/46\u001b[0m \u001b[32m━━━━━━━━━━━━━━━━━━━━\u001b[0m\u001b[37m\u001b[0m \u001b[1m50s\u001b[0m 1s/step - loss: 2.1430 - val_loss: 2.7958 - learning_rate: 1.2500e-04\n",
      "Epoch 60/100\n",
      "\u001b[1m46/46\u001b[0m \u001b[32m━━━━━━━━━━━━━━━━━━━━\u001b[0m\u001b[37m\u001b[0m \u001b[1m50s\u001b[0m 1s/step - loss: 2.2708 - val_loss: 2.8508 - learning_rate: 1.2500e-04\n",
      "Epoch 61/100\n",
      "\u001b[1m46/46\u001b[0m \u001b[32m━━━━━━━━━━━━━━━━━━━━\u001b[0m\u001b[37m\u001b[0m \u001b[1m50s\u001b[0m 1s/step - loss: 2.5945 - val_loss: 2.7704 - learning_rate: 1.2500e-04\n",
      "Epoch 62/100\n",
      "\u001b[1m46/46\u001b[0m \u001b[32m━━━━━━━━━━━━━━━━━━━━\u001b[0m\u001b[37m\u001b[0m \u001b[1m0s\u001b[0m 1s/step - loss: 1.7604 \n",
      "Epoch 62: ReduceLROnPlateau reducing learning rate to 6.25000029685907e-05.\n",
      "\u001b[1m46/46\u001b[0m \u001b[32m━━━━━━━━━━━━━━━━━━━━\u001b[0m\u001b[37m\u001b[0m \u001b[1m50s\u001b[0m 1s/step - loss: 1.7674 - val_loss: 2.7872 - learning_rate: 1.2500e-04\n",
      "Epoch 63/100\n",
      "\u001b[1m46/46\u001b[0m \u001b[32m━━━━━━━━━━━━━━━━━━━━\u001b[0m\u001b[37m\u001b[0m \u001b[1m50s\u001b[0m 1s/step - loss: 2.0209 - val_loss: 2.7839 - learning_rate: 6.2500e-05\n",
      "Epoch 64/100\n",
      "\u001b[1m46/46\u001b[0m \u001b[32m━━━━━━━━━━━━━━━━━━━━\u001b[0m\u001b[37m\u001b[0m \u001b[1m50s\u001b[0m 1s/step - loss: 3.1317 - val_loss: 2.8063 - learning_rate: 6.2500e-05\n",
      "Epoch 65/100\n",
      "\u001b[1m46/46\u001b[0m \u001b[32m━━━━━━━━━━━━━━━━━━━━\u001b[0m\u001b[37m\u001b[0m \u001b[1m50s\u001b[0m 1s/step - loss: 2.4261 - val_loss: 2.8342 - learning_rate: 6.2500e-05\n",
      "Epoch 66/100\n",
      "\u001b[1m46/46\u001b[0m \u001b[32m━━━━━━━━━━━━━━━━━━━━\u001b[0m\u001b[37m\u001b[0m \u001b[1m50s\u001b[0m 1s/step - loss: 2.2227 - val_loss: 2.7989 - learning_rate: 6.2500e-05\n",
      "Epoch 67/100\n",
      "\u001b[1m46/46\u001b[0m \u001b[32m━━━━━━━━━━━━━━━━━━━━\u001b[0m\u001b[37m\u001b[0m \u001b[1m0s\u001b[0m 1s/step - loss: 2.4518 \n",
      "Epoch 67: ReduceLROnPlateau reducing learning rate to 3.125000148429535e-05.\n",
      "\u001b[1m46/46\u001b[0m \u001b[32m━━━━━━━━━━━━━━━━━━━━\u001b[0m\u001b[37m\u001b[0m \u001b[1m51s\u001b[0m 1s/step - loss: 2.4464 - val_loss: 2.8490 - learning_rate: 6.2500e-05\n",
      "Epoch 68/100\n",
      "\u001b[1m46/46\u001b[0m \u001b[32m━━━━━━━━━━━━━━━━━━━━\u001b[0m\u001b[37m\u001b[0m \u001b[1m51s\u001b[0m 1s/step - loss: 2.0078 - val_loss: 2.8152 - learning_rate: 3.1250e-05\n",
      "Epoch 69/100\n",
      "\u001b[1m46/46\u001b[0m \u001b[32m━━━━━━━━━━━━━━━━━━━━\u001b[0m\u001b[37m\u001b[0m \u001b[1m50s\u001b[0m 1s/step - loss: 2.1012 - val_loss: 2.8031 - learning_rate: 3.1250e-05\n",
      "Epoch 70/100\n",
      "\u001b[1m46/46\u001b[0m \u001b[32m━━━━━━━━━━━━━━━━━━━━\u001b[0m\u001b[37m\u001b[0m \u001b[1m50s\u001b[0m 1s/step - loss: 2.1063 - val_loss: 2.8011 - learning_rate: 3.1250e-05\n",
      "Epoch 71/100\n",
      "\u001b[1m46/46\u001b[0m \u001b[32m━━━━━━━━━━━━━━━━━━━━\u001b[0m\u001b[37m\u001b[0m \u001b[1m50s\u001b[0m 1s/step - loss: 1.8925 - val_loss: 2.7917 - learning_rate: 3.1250e-05\n",
      "Epoch 72/100\n",
      "\u001b[1m46/46\u001b[0m \u001b[32m━━━━━━━━━━━━━━━━━━━━\u001b[0m\u001b[37m\u001b[0m \u001b[1m0s\u001b[0m 1s/step - loss: 2.0450 \n",
      "Epoch 72: ReduceLROnPlateau reducing learning rate to 1.5625000742147677e-05.\n",
      "\u001b[1m46/46\u001b[0m \u001b[32m━━━━━━━━━━━━━━━━━━━━\u001b[0m\u001b[37m\u001b[0m \u001b[1m53s\u001b[0m 1s/step - loss: 2.0493 - val_loss: 2.7874 - learning_rate: 3.1250e-05\n",
      "Epoch 73/100\n",
      "\u001b[1m46/46\u001b[0m \u001b[32m━━━━━━━━━━━━━━━━━━━━\u001b[0m\u001b[37m\u001b[0m \u001b[1m50s\u001b[0m 1s/step - loss: 1.8209 - val_loss: 2.7987 - learning_rate: 1.5625e-05\n",
      "Epoch 74/100\n",
      "\u001b[1m46/46\u001b[0m \u001b[32m━━━━━━━━━━━━━━━━━━━━\u001b[0m\u001b[37m\u001b[0m \u001b[1m51s\u001b[0m 1s/step - loss: 2.6962 - val_loss: 2.7883 - learning_rate: 1.5625e-05\n",
      "Epoch 75/100\n",
      "\u001b[1m46/46\u001b[0m \u001b[32m━━━━━━━━━━━━━━━━━━━━\u001b[0m\u001b[37m\u001b[0m \u001b[1m50s\u001b[0m 1s/step - loss: 2.2252 - val_loss: 2.7880 - learning_rate: 1.5625e-05\n",
      "Epoch 76/100\n",
      "\u001b[1m46/46\u001b[0m \u001b[32m━━━━━━━━━━━━━━━━━━━━\u001b[0m\u001b[37m\u001b[0m \u001b[1m50s\u001b[0m 1s/step - loss: 1.8080 - val_loss: 2.7879 - learning_rate: 1.5625e-05\n",
      "Epoch 77/100\n",
      "\u001b[1m46/46\u001b[0m \u001b[32m━━━━━━━━━━━━━━━━━━━━\u001b[0m\u001b[37m\u001b[0m \u001b[1m0s\u001b[0m 1s/step - loss: 1.9602 \n",
      "Epoch 77: ReduceLROnPlateau reducing learning rate to 7.812500371073838e-06.\n",
      "\u001b[1m46/46\u001b[0m \u001b[32m━━━━━━━━━━━━━━━━━━━━\u001b[0m\u001b[37m\u001b[0m \u001b[1m50s\u001b[0m 1s/step - loss: 1.9628 - val_loss: 2.7913 - learning_rate: 1.5625e-05\n",
      "Epoch 78/100\n",
      "\u001b[1m46/46\u001b[0m \u001b[32m━━━━━━━━━━━━━━━━━━━━\u001b[0m\u001b[37m\u001b[0m \u001b[1m50s\u001b[0m 1s/step - loss: 2.0330 - val_loss: 2.7839 - learning_rate: 7.8125e-06\n",
      "Epoch 79/100\n",
      "\u001b[1m46/46\u001b[0m \u001b[32m━━━━━━━━━━━━━━━━━━━━\u001b[0m\u001b[37m\u001b[0m \u001b[1m50s\u001b[0m 1s/step - loss: 1.8179 - val_loss: 2.7834 - learning_rate: 7.8125e-06\n",
      "Epoch 80/100\n",
      "\u001b[1m46/46\u001b[0m \u001b[32m━━━━━━━━━━━━━━━━━━━━\u001b[0m\u001b[37m\u001b[0m \u001b[1m50s\u001b[0m 1s/step - loss: 2.1522 - val_loss: 2.7788 - learning_rate: 7.8125e-06\n",
      "Epoch 81/100\n",
      "\u001b[1m46/46\u001b[0m \u001b[32m━━━━━━━━━━━━━━━━━━━━\u001b[0m\u001b[37m\u001b[0m \u001b[1m50s\u001b[0m 1s/step - loss: 2.3552 - val_loss: 2.7763 - learning_rate: 7.8125e-06\n",
      "Epoch 82/100\n",
      "\u001b[1m46/46\u001b[0m \u001b[32m━━━━━━━━━━━━━━━━━━━━\u001b[0m\u001b[37m\u001b[0m \u001b[1m0s\u001b[0m 1s/step - loss: 2.4536 \n",
      "Epoch 82: ReduceLROnPlateau reducing learning rate to 3.906250185536919e-06.\n",
      "\u001b[1m46/46\u001b[0m \u001b[32m━━━━━━━━━━━━━━━━━━━━\u001b[0m\u001b[37m\u001b[0m \u001b[1m50s\u001b[0m 1s/step - loss: 2.4479 - val_loss: 2.7774 - learning_rate: 7.8125e-06\n",
      "Epoch 83/100\n",
      "\u001b[1m46/46\u001b[0m \u001b[32m━━━━━━━━━━━━━━━━━━━━\u001b[0m\u001b[37m\u001b[0m \u001b[1m50s\u001b[0m 1s/step - loss: 1.8893 - val_loss: 2.7761 - learning_rate: 3.9063e-06\n",
      "Epoch 84/100\n",
      "\u001b[1m46/46\u001b[0m \u001b[32m━━━━━━━━━━━━━━━━━━━━\u001b[0m\u001b[37m\u001b[0m \u001b[1m50s\u001b[0m 1s/step - loss: 2.2715 - val_loss: 2.7727 - learning_rate: 3.9063e-06\n",
      "Epoch 85/100\n",
      "\u001b[1m46/46\u001b[0m \u001b[32m━━━━━━━━━━━━━━━━━━━━\u001b[0m\u001b[37m\u001b[0m \u001b[1m50s\u001b[0m 1s/step - loss: 1.7558 - val_loss: 2.7708 - learning_rate: 3.9063e-06\n",
      "Epoch 86/100\n",
      "\u001b[1m46/46\u001b[0m \u001b[32m━━━━━━━━━━━━━━━━━━━━\u001b[0m\u001b[37m\u001b[0m \u001b[1m49s\u001b[0m 1s/step - loss: 1.9750 - val_loss: 2.7727 - learning_rate: 3.9063e-06\n",
      "Epoch 87/100\n",
      "\u001b[1m46/46\u001b[0m \u001b[32m━━━━━━━━━━━━━━━━━━━━\u001b[0m\u001b[37m\u001b[0m \u001b[1m0s\u001b[0m 1s/step - loss: 2.3131 \n",
      "Epoch 87: ReduceLROnPlateau reducing learning rate to 1.9531250927684596e-06.\n",
      "\u001b[1m46/46\u001b[0m \u001b[32m━━━━━━━━━━━━━━━━━━━━\u001b[0m\u001b[37m\u001b[0m \u001b[1m50s\u001b[0m 1s/step - loss: 2.3147 - val_loss: 2.7735 - learning_rate: 3.9063e-06\n",
      "Epoch 88/100\n",
      "\u001b[1m46/46\u001b[0m \u001b[32m━━━━━━━━━━━━━━━━━━━━\u001b[0m\u001b[37m\u001b[0m \u001b[1m49s\u001b[0m 1s/step - loss: 1.9964 - val_loss: 2.7732 - learning_rate: 1.9531e-06\n",
      "Epoch 89/100\n",
      "\u001b[1m46/46\u001b[0m \u001b[32m━━━━━━━━━━━━━━━━━━━━\u001b[0m\u001b[37m\u001b[0m \u001b[1m49s\u001b[0m 1s/step - loss: 2.0390 - val_loss: 2.7728 - learning_rate: 1.9531e-06\n",
      "Epoch 90/100\n",
      "\u001b[1m46/46\u001b[0m \u001b[32m━━━━━━━━━━━━━━━━━━━━\u001b[0m\u001b[37m\u001b[0m \u001b[1m49s\u001b[0m 1s/step - loss: 2.5592 - val_loss: 2.7720 - learning_rate: 1.9531e-06\n",
      "Epoch 91/100\n",
      "\u001b[1m46/46\u001b[0m \u001b[32m━━━━━━━━━━━━━━━━━━━━\u001b[0m\u001b[37m\u001b[0m \u001b[1m50s\u001b[0m 1s/step - loss: 2.4789 - val_loss: 2.7722 - learning_rate: 1.9531e-06\n",
      "Epoch 92/100\n",
      "\u001b[1m46/46\u001b[0m \u001b[32m━━━━━━━━━━━━━━━━━━━━\u001b[0m\u001b[37m\u001b[0m \u001b[1m0s\u001b[0m 1s/step - loss: 2.1882 \n",
      "Epoch 92: ReduceLROnPlateau reducing learning rate to 9.765625463842298e-07.\n",
      "\u001b[1m46/46\u001b[0m \u001b[32m━━━━━━━━━━━━━━━━━━━━\u001b[0m\u001b[37m\u001b[0m \u001b[1m50s\u001b[0m 1s/step - loss: 2.1877 - val_loss: 2.7739 - learning_rate: 1.9531e-06\n",
      "Epoch 93/100\n",
      "\u001b[1m46/46\u001b[0m \u001b[32m━━━━━━━━━━━━━━━━━━━━\u001b[0m\u001b[37m\u001b[0m \u001b[1m50s\u001b[0m 1s/step - loss: 1.8928 - val_loss: 2.7732 - learning_rate: 9.7656e-07\n",
      "Epoch 94/100\n",
      "\u001b[1m46/46\u001b[0m \u001b[32m━━━━━━━━━━━━━━━━━━━━\u001b[0m\u001b[37m\u001b[0m \u001b[1m50s\u001b[0m 1s/step - loss: 1.8304 - val_loss: 2.7733 - learning_rate: 9.7656e-07\n",
      "Epoch 95/100\n",
      "\u001b[1m46/46\u001b[0m \u001b[32m━━━━━━━━━━━━━━━━━━━━\u001b[0m\u001b[37m\u001b[0m \u001b[1m50s\u001b[0m 1s/step - loss: 3.2133 - val_loss: 2.7728 - learning_rate: 9.7656e-07\n",
      "Epoch 96/100\n",
      "\u001b[1m46/46\u001b[0m \u001b[32m━━━━━━━━━━━━━━━━━━━━\u001b[0m\u001b[37m\u001b[0m \u001b[1m50s\u001b[0m 1s/step - loss: 1.9281 - val_loss: 2.7729 - learning_rate: 9.7656e-07\n",
      "Epoch 97/100\n",
      "\u001b[1m46/46\u001b[0m \u001b[32m━━━━━━━━━━━━━━━━━━━━\u001b[0m\u001b[37m\u001b[0m \u001b[1m0s\u001b[0m 1s/step - loss: 1.9341 \n",
      "Epoch 97: ReduceLROnPlateau reducing learning rate to 4.882812731921149e-07.\n",
      "\u001b[1m46/46\u001b[0m \u001b[32m━━━━━━━━━━━━━━━━━━━━\u001b[0m\u001b[37m\u001b[0m \u001b[1m49s\u001b[0m 1s/step - loss: 1.9374 - val_loss: 2.7731 - learning_rate: 9.7656e-07\n",
      "Epoch 98/100\n",
      "\u001b[1m46/46\u001b[0m \u001b[32m━━━━━━━━━━━━━━━━━━━━\u001b[0m\u001b[37m\u001b[0m \u001b[1m49s\u001b[0m 1s/step - loss: 2.2494 - val_loss: 2.7728 - learning_rate: 4.8828e-07\n",
      "Epoch 99/100\n",
      "\u001b[1m46/46\u001b[0m \u001b[32m━━━━━━━━━━━━━━━━━━━━\u001b[0m\u001b[37m\u001b[0m \u001b[1m49s\u001b[0m 1s/step - loss: 2.0083 - val_loss: 2.7723 - learning_rate: 4.8828e-07\n",
      "Epoch 100/100\n",
      "\u001b[1m46/46\u001b[0m \u001b[32m━━━━━━━━━━━━━━━━━━━━\u001b[0m\u001b[37m\u001b[0m \u001b[1m49s\u001b[0m 1s/step - loss: 2.2777 - val_loss: 2.7723 - learning_rate: 4.8828e-07\n"
     ]
    }
   ],
   "source": [
    "# Set the input shape and number of classes (1 for regression)\n",
    "input_shape = (X_train.shape[1:])\n",
    "num_classes = 1\n",
    "\n",
    "# Create the model\n",
    "model = Sequential()\n",
    "model.add(Conv1D(filters=32, kernel_size=3, activation='relu', input_shape=input_shape))\n",
    "model.add(MaxPooling1D(pool_size=2))\n",
    "model.add(Conv1D(filters=64, kernel_size=3, activation='relu'))\n",
    "model.add(MaxPooling1D(pool_size=2))\n",
    "model.add(Conv1D(filters=128, kernel_size=3, activation='relu'))\n",
    "model.add(MaxPooling1D(pool_size=2))\n",
    "model.add(Flatten())\n",
    "model.add(Dense(256, activation='relu'))\n",
    "model.add(Dropout(0.5))\n",
    "model.add(Dense(num_classes, activation='linear'))  # Using 'linear' activation for regression\n",
    "\n",
    "# Compile the model with appropriate loss function and optimizer\n",
    "model.compile(loss='mean_squared_error', optimizer=Adam(learning_rate=0.001))\n",
    "\n",
    "# Apply learning rate scheduling\n",
    "lr_scheduler = ReduceLROnPlateau(factor=0.5, patience=5, verbose=1)\n",
    "\n",
    "# Train the model using the training dataset and validate on the validation set\n",
    "history = model.fit(X_train, y_train, epochs=100, batch_size=32, validation_data=(X_val, y_val), callbacks=[lr_scheduler])"
   ]
  },
  {
   "cell_type": "code",
   "execution_count": 55,
   "id": "3e28ca81-419d-47dc-a313-3d53a9be3d56",
   "metadata": {},
   "outputs": [
    {
     "name": "stdout",
     "output_type": "stream",
     "text": [
      "\u001b[1m16/16\u001b[0m \u001b[32m━━━━━━━━━━━━━━━━━━━━\u001b[0m\u001b[37m\u001b[0m \u001b[1m5s\u001b[0m 192ms/step\n",
      "Mean Squared Error (MSE): 4.934573709533298\n",
      "R-squared Score: 0.6722838170394616\n"
     ]
    }
   ],
   "source": [
    "# Assuming you have predictions and true values as numpy arrays\n",
    "prediction = model.predict(X_test)\n",
    "y_true = np.array(y_test)  # True delta_G values for the test data\n",
    "y_pred = prediction.reshape(-1)  # Reshape predictions to a 1D array if needed\n",
    "\n",
    "# Calculate mean squared error (MSE)\n",
    "mse = mean_squared_error(y_true, y_pred)\n",
    "\n",
    "# Calculate coefficient of determination (R-squared score)\n",
    "r2_score_value = r2_score(y_true, y_pred)\n",
    "\n",
    "# Print the results\n",
    "print(\"Mean Squared Error (MSE):\", mse)\n",
    "print(\"R-squared Score:\", r2_score_value)"
   ]
  },
  {
   "cell_type": "code",
   "execution_count": null,
   "id": "81eb4bd0-17b2-4f77-8d87-a4e1ea511e19",
   "metadata": {},
   "outputs": [],
   "source": [
    "import matplotlib.pyplot as plt\n",
    "plt.scatter(y_test, y_pred, alpha=0.5)\n",
    "plt.xlabel(\"True ΔG\")\n",
    "plt.ylabel(\"Predicted ΔG\")\n",
    "plt.title(\"Prediction Accuracy\")\n",
    "plt.savefig(\"Prediction Accuracy.pdf\", dpi=600, bbox_inches='tight')\n",
    "\n",
    "plt.show()"
   ]
  },
  {
   "cell_type": "code",
   "execution_count": 56,
   "id": "c20a396b-3693-4ea6-874e-c57a29129bfe",
   "metadata": {},
   "outputs": [
    {
     "data": {
      "image/png": "[encoded data removed]",
      "text/plain": [
       "<Figure size 1000x800 with 1 Axes>"
      ]
     },
     "metadata": {},
     "output_type": "display_data"
    }
   ],
   "source": [
    "import numpy as np\n",
    "import matplotlib.pyplot as plt\n",
    "from sklearn.metrics import r2_score, mean_absolute_error, mean_squared_error\n",
    "\n",
    "\n",
    "\n",
    "np.random.seed(42) # for reproducibility\n",
    "\n",
    "\n",
    "\n",
    "\n",
    "# --- 2. Calculate Regression Line and R-squared ---\n",
    "# Calculate the slope and intercept of the best-fit line\n",
    "regression_line = np.polyfit(y_true, y_pred, 1)\n",
    "regression_fn = np.poly1d(regression_line)\n",
    "\n",
    "# Calculate the R-squared value\n",
    "r2 = r2_score(y_true, y_pred)\n",
    "\n",
    "# Calculate other common metrics for regression\n",
    "mae = mean_absolute_error(y_true, y_pred)\n",
    "mse = mean_squared_error(y_true, y_pred)\n",
    "rmse = np.sqrt(mse) # Root Mean Squared Error\n",
    "\n",
    "# --- 3. Create the Scatter Plot with Enhancements ---\n",
    "plt.figure(figsize=(10, 8)) # Slightly larger figure for better readability\n",
    "\n",
    "# Scatter plot of actual vs. predicted values\n",
    "plt.scatter(y_true, y_pred, color='skyblue', alpha=0.7, label='Data points (Actual vs. Predicted)')\n",
    "\n",
    "# Plot the regression line\n",
    "# We use a range from the min to max of y_true for the regression line for better fit visualization\n",
    "x_range = np.array([min(y_true), max(y_true)])\n",
    "plt.plot(x_range, regression_fn(x_range), color='red', linestyle='-', linewidth=2, label='Regression Line')\n",
    "\n",
    "# Plot the ideal 'y=x' line (perfect prediction)\n",
    "plt.plot(x_range, x_range, color='green', linestyle='--', linewidth=1.5, label='Ideal Prediction (y=x)')\n",
    "\n",
    "# Annotate with R-squared value and other metrics\n",
    "# Position annotations carefully to avoid overlap\n",
    "plt.annotate(f'R-squared ($R^2$) = {r2:.3f}',\n",
    "             xy=(0.05, 0.95), xycoords='axes fraction',\n",
    "             fontsize=12, color='darkblue',\n",
    "             bbox=dict(boxstyle=\"round,pad=0.3\", fc=\"white\", ec=\"darkblue\", lw=0.5, alpha=0.7))\n",
    "plt.annotate(f'MAE = {mae:.3f}',\n",
    "             xy=(0.05, 0.90), xycoords='axes fraction',\n",
    "             fontsize=12, color='darkgreen',\n",
    "             bbox=dict(boxstyle=\"round,pad=0.3\", fc=\"white\", ec=\"darkgreen\", lw=0.5, alpha=0.7))\n",
    "plt.annotate(f'RMSE = {rmse:.3f}',\n",
    "             xy=(0.05, 0.85), xycoords='axes fraction',\n",
    "             fontsize=12, color='darkorange',\n",
    "             bbox=dict(boxstyle=\"round,pad=0.3\", fc=\"white\", ec=\"darkorange\", lw=0.5, alpha=0.7))\n",
    "\n",
    "\n",
    "plt.xlabel('Actual $\\\\Delta G$ Value', fontsize=14)\n",
    "plt.ylabel('Predicted $\\\\Delta G$ Value', fontsize=14)\n",
    "plt.title('Neural Network Model Performance: Actual vs. Predicted $\\\\Delta G$', fontsize=16)\n",
    "plt.legend(fontsize=10)\n",
    "\n",
    "plt.grid(True, linestyle=':', alpha=0.6) # Lighter grid lines\n",
    "plt.tight_layout() # Adjust layout to prevent labels from overlapping\n",
    "plt.savefig(\"Prediction Accuracy_1.pdf\", dpi=600, bbox_inches='tight')\n",
    "plt.show()\n"
   ]
  },
  {
   "cell_type": "code",
   "execution_count": 57,
   "id": "db3fca16-93fc-423a-a2ee-6d86103929d8",
   "metadata": {},
   "outputs": [],
   "source": [
    "model.save(\"Protein_model.keras\")"
   ]
  },
  {
   "cell_type": "code",
   "execution_count": null,
   "id": "ecb9ad21-a017-48a9-8514-8d54b4042e7b",
   "metadata": {},
   "outputs": [],
   "source": []
  },
  {
   "cell_type": "code",
   "execution_count": 50,
   "id": "e753b908-8b01-4b66-94aa-751129bfc584",
   "metadata": {},
   "outputs": [
    {
     "data": {
      "text/plain": [
       "'\\n#model.compile(optimizer=\\'adam\\', loss=\\'mse\\', metrics=[\\'mae\\'])\\n\\n#history = model.fit(\\n    X_train, y_train,\\n    epochs=25,\\n    batch_size=32,\\n    validation_split=0.2,\\n    callbacks=[tf.keras.callbacks.EarlyStopping(patience=3, restore_best_weights=True)]\\n)\\n\\n\\ntest_loss, test_mae = model.evaluate(X_test, y_test)\\nprint(\"Test MSE:\", test_loss)\\nprint(\"Test MAE:\", test_mae)\\n\\n\\ny_pred = model.predict(X_test)\\n\\n\\n\\n\\nimport matplotlib.pyplot as plt\\nplt.scatter(y_test, y_pred, alpha=0.5)\\nplt.xlabel(\"True ΔG\")\\nplt.ylabel(\"Predicted ΔG\")\\nplt.title(\"Prediction Accuracy\")\\nplt.savefig(\"Prediction Accuracy.pdf\", dpi=600, bbox_inches=\\'tight\\')\\n\\nplt.show()\\n\\n\\nnew_seq = \"AQKDEFGHIQQQQQLLLLLL\"  # Substitute with your actual sequence\\n\\n\\nencoded_seq = oneHot_Prot(new_seq)  # shape: (L, 20)\\n\\n\\nfrom tensorflow.keras.preprocessing.sequence import pad_sequences\\n\\npadded = pad_sequences([encoded_seq], maxlen=34350, padding=\\'post\\')  # shape: (1, 34350, 20)\\n\\n\\npadded.shape\\n\\npredicted_dG = model.predict(padded)\\nprint(f\"Predicted ΔG: {predicted_dG[0][0]:.3f}\")\\n\\n\\nmodel.save(\"deltaG_predictor.h5\")\\n\\n\\nmodel.save(\"my_model.keras\")\\n'"
      ]
     },
     "execution_count": 50,
     "metadata": {},
     "output_type": "execute_result"
    }
   ],
   "source": [
    "\"\"\"\n",
    "#import tensorflow as tf\n",
    "#from tensorflow.keras import layers, models\n",
    "\n",
    "#model = models.Sequential #([\n",
    "    layers.Input(shape=(34350, 20)),  # input shape: (sequence length, amino acid channels)\n",
    "\n",
    "    layers.Conv1D(filters=64, kernel_size=7, activation='relu', padding='same'),\n",
    "    layers.MaxPooling1D(pool_size=3),\n",
    "\n",
    "    layers.Conv1D(filters=128, kernel_size=5, activation='relu', padding='same'),\n",
    "    layers.MaxPooling1D(pool_size=3),\n",
    "\n",
    "    layers.Conv1D(filters=256, kernel_size=3, activation='relu', padding='same'),\n",
    "    layers.GlobalMaxPooling1D(),\n",
    "\n",
    "    layers.Dense(256, activation='relu'),\n",
    "    layers.Dropout(0.3),\n",
    "\n",
    "    layers.Dense(1)  #  For regression output (single predicted value)\n",
    "])\n",
    "\"\"\"\n",
    "\n",
    "\"\"\"\n",
    "#model.compile(optimizer='adam', loss='mse', metrics=['mae'])\n",
    "\n",
    "#history = model.fit(\n",
    "    X_train, y_train,\n",
    "    epochs=25,\n",
    "    batch_size=32,\n",
    "    validation_split=0.2,\n",
    "    callbacks=[tf.keras.callbacks.EarlyStopping(patience=3, restore_best_weights=True)]\n",
    ")\n",
    "\n",
    "\n",
    "test_loss, test_mae = model.evaluate(X_test, y_test)\n",
    "print(\"Test MSE:\", test_loss)\n",
    "print(\"Test MAE:\", test_mae)\n",
    "\n",
    "\n",
    "y_pred = model.predict(X_test)\n",
    "\n",
    "\n",
    "\n",
    "\n",
    "import matplotlib.pyplot as plt\n",
    "plt.scatter(y_test, y_pred, alpha=0.5)\n",
    "plt.xlabel(\"True ΔG\")\n",
    "plt.ylabel(\"Predicted ΔG\")\n",
    "plt.title(\"Prediction Accuracy\")\n",
    "plt.savefig(\"Prediction Accuracy.pdf\", dpi=600, bbox_inches='tight')\n",
    "\n",
    "plt.show()\n",
    "\n",
    "\n",
    "new_seq = \"AQKDEFGHIQQQQQLLLLLL\"  # Substitute with your actual sequence\n",
    "\n",
    "\n",
    "encoded_seq = oneHot_Prot(new_seq)  # shape: (L, 20)\n",
    "\n",
    "\n",
    "from tensorflow.keras.preprocessing.sequence import pad_sequences\n",
    "\n",
    "padded = pad_sequences([encoded_seq], maxlen=34350, padding='post')  # shape: (1, 34350, 20)\n",
    "\n",
    "\n",
    "padded.shape\n",
    "\n",
    "predicted_dG = model.predict(padded)\n",
    "print(f\"Predicted ΔG: {predicted_dG[0][0]:.3f}\")\n",
    "\n",
    "\n",
    "model.save(\"deltaG_predictor.h5\")\n",
    "\n",
    "\n",
    "model.save(\"my_model.keras\")\n",
    "\"\"\""
   ]
  },
  {
   "cell_type": "code",
   "execution_count": null,
   "id": "96c99349-8cd2-4f59-a3b9-f947e9bc4d24",
   "metadata": {},
   "outputs": [],
   "source": []
  },
  {
   "cell_type": "code",
   "execution_count": null,
   "id": "b83c5ac2-666a-4318-9f51-2e5de3b827f6",
   "metadata": {},
   "outputs": [],
   "source": []
  },
  {
   "cell_type": "code",
   "execution_count": null,
   "id": "d9a83936-071f-4591-af34-24a05631fccf",
   "metadata": {},
   "outputs": [],
   "source": []
  },
  {
   "cell_type": "code",
   "execution_count": null,
   "id": "ddcdf39e-f08c-4d6a-9356-c4b3cbdf6327",
   "metadata": {},
   "outputs": [],
   "source": []
  },
  {
   "cell_type": "code",
   "execution_count": null,
   "id": "5d3e090c-5b5e-4bef-9796-00fafed43e21",
   "metadata": {},
   "outputs": [],
   "source": []
  },
  {
   "cell_type": "code",
   "execution_count": null,
   "id": "7cc7ff72-7fea-465b-b8ab-eecceeefd83e",
   "metadata": {},
   "outputs": [],
   "source": []
  },
  {
   "cell_type": "code",
   "execution_count": null,
   "id": "8b26de9f-6ac6-485d-a2d6-be7d939268b9",
   "metadata": {},
   "outputs": [],
   "source": []
  },
  {
   "cell_type": "code",
   "execution_count": null,
   "id": "30cfdd57-0f7a-4753-914d-48782498d967",
   "metadata": {},
   "outputs": [],
   "source": []
  },
  {
   "cell_type": "code",
   "execution_count": null,
   "id": "745e71e5-0b7e-48bb-8650-a9b45448c40a",
   "metadata": {},
   "outputs": [],
   "source": []
  },
  {
   "cell_type": "code",
   "execution_count": null,
   "id": "cbe23ff7-6420-4328-84e9-8658dd5705bb",
   "metadata": {},
   "outputs": [],
   "source": []
  },
  {
   "cell_type": "code",
   "execution_count": null,
   "id": "3f0bcf7e-273f-4ab2-a6d0-0204c4653334",
   "metadata": {},
   "outputs": [],
   "source": []
  },
  {
   "cell_type": "code",
   "execution_count": null,
   "id": "aecde5ff-8922-45e1-853c-33230cb7034e",
   "metadata": {},
   "outputs": [],
   "source": []
  },
  {
   "cell_type": "code",
   "execution_count": null,
   "id": "802ecdd1-b874-4275-8b3c-967dfc4a8003",
   "metadata": {},
   "outputs": [],
   "source": []
  },
  {
   "cell_type": "code",
   "execution_count": null,
   "id": "62802cc6-dd6e-4fc6-a059-a316acf79863",
   "metadata": {},
   "outputs": [],
   "source": []
  },
  {
   "cell_type": "code",
   "execution_count": null,
   "id": "85054b6a-4ccf-4678-9287-8b3acbc06be2",
   "metadata": {},
   "outputs": [],
   "source": []
  },
  {
   "cell_type": "code",
   "execution_count": null,
   "id": "ea47a011-baf9-4792-9dd7-112522ef310e",
   "metadata": {},
   "outputs": [],
   "source": []
  },
  {
   "cell_type": "code",
   "execution_count": null,
   "id": "0612d3fb-9215-467c-8418-3a54018c0759",
   "metadata": {},
   "outputs": [],
   "source": []
  },
  {
   "cell_type": "code",
   "execution_count": null,
   "id": "3d6894c7-f073-4323-94de-fd3b9a455784",
   "metadata": {},
   "outputs": [],
   "source": []
  },
  {
   "cell_type": "code",
   "execution_count": null,
   "id": "9da7010c-3ba7-42c4-8071-eeb685c9b034",
   "metadata": {},
   "outputs": [],
   "source": []
  },
  {
   "cell_type": "code",
   "execution_count": null,
   "id": "53613d6e-e4a1-4c8e-b952-afd33daeb132",
   "metadata": {},
   "outputs": [],
   "source": []
  },
  {
   "cell_type": "code",
   "execution_count": null,
   "id": "843d7699-31fd-47ab-970f-9d9d0100f167",
   "metadata": {},
   "outputs": [],
   "source": []
  },
  {
   "cell_type": "code",
   "execution_count": null,
   "id": "9664f1c8-3b75-4e6c-88de-71f38c714e11",
   "metadata": {},
   "outputs": [],
   "source": []
  },
  {
   "cell_type": "code",
   "execution_count": null,
   "id": "944dfd35-f8e5-48b4-937a-cb372a5a3bcd",
   "metadata": {},
   "outputs": [],
   "source": []
  },
  {
   "cell_type": "code",
   "execution_count": null,
   "id": "f4fef86e-f91c-40a7-8eb3-54556f85bbcf",
   "metadata": {},
   "outputs": [],
   "source": []
  }
 ],
 "metadata": {
  "kernelspec": {
   "display_name": "Python 3 (ipykernel)",
   "language": "python",
   "name": "python3"
  },
  "language_info": {
   "codemirror_mode": {
    "name": "ipython",
    "version": 3
   },
   "file_extension": ".py",
   "mimetype": "text/x-python",
   "name": "python",
   "nbconvert_exporter": "python",
   "pygments_lexer": "ipython3",
   "version": "3.10.16"
  }
 },
 "nbformat": 4,
 "nbformat_minor": 5
}
